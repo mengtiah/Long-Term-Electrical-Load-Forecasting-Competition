{
 "cells": [
  {
   "cell_type": "code",
   "execution_count": 1,
   "metadata": {
    "ExecuteTime": {
     "end_time": "2018-08-18T04:11:30.311589Z",
     "start_time": "2018-08-18T04:11:24.494449Z"
    },
    "_uuid": "f9855f8c04e1efbb8f58471c073a93cc4f2d180c",
    "hidden": true
   },
   "outputs": [],
   "source": [
    "%load_ext autoreload\n",
    "%autoreload 2\n",
    "\n",
    "%matplotlib inline"
   ]
  },
  {
   "cell_type": "code",
   "execution_count": 2,
   "metadata": {
    "ExecuteTime": {
     "end_time": "2018-08-18T04:12:00.359298Z",
     "start_time": "2018-08-18T04:11:30.311589Z"
    },
    "_uuid": "d8138beae325bd3684d0a74f3e00c2b28bf6e4fd",
    "hidden": true
   },
   "outputs": [
    {
     "name": "stderr",
     "output_type": "stream",
     "text": [
      "/anaconda3/lib/python3.7/site-packages/lightgbm/__init__.py:46: UserWarning: Starting from version 2.2.1, the library file in distribution wheels for macOS is built by the Apple Clang (Xcode_8.3.3) compiler.\n",
      "This means that in case of installing LightGBM from PyPI via the ``pip install lightgbm`` command, you don't need to install the gcc compiler anymore.\n",
      "Instead of that, you need to install the OpenMP library, which is required for running LightGBM on the system with the Apple Clang compiler.\n",
      "You can install the OpenMP library by the following command: ``brew install libomp``.\n",
      "  \"You can install the OpenMP library by the following command: ``brew install libomp``.\", UserWarning)\n"
     ]
    },
    {
     "data": {
      "text/html": [
       "        <script type=\"text/javascript\">\n",
       "        window.PlotlyConfig = {MathJaxConfig: 'local'};\n",
       "        if (window.MathJax) {MathJax.Hub.Config({SVG: {font: \"STIX-Web\"}});}\n",
       "        if (typeof require !== 'undefined') {\n",
       "        require.undef(\"plotly\");\n",
       "        requirejs.config({\n",
       "            paths: {\n",
       "                'plotly': ['https://cdn.plot.ly/plotly-latest.min']\n",
       "            }\n",
       "        });\n",
       "        require(['plotly'], function(Plotly) {\n",
       "            window._Plotly = Plotly;\n",
       "        });\n",
       "        }\n",
       "        </script>\n",
       "        "
      ]
     },
     "metadata": {},
     "output_type": "display_data"
    }
   ],
   "source": [
    "import time\n",
    "import lightgbm as lgb\n",
    "import xgboost as xgb\n",
    "import seaborn as sns\n",
    "import pandas as pd\n",
    "import numpy as np\n",
    "import os\n",
    "import matplotlib.pyplot as plt\n",
    "\n",
    "# from fastai.imports import *\n",
    "# from fastai.structured import *\n",
    "from fbprophet import Prophet\n",
    "# you probably have to install Prophet: conda install -c conda-forge fbprophet\n",
    "# you may also have to set up command line tools. Only do this if you have to: xcode-select --install\n",
    "\n",
    "# def ignore_warn(*args, **kwargs):\n",
    "#     pass\n",
    "# warnings.warn = ignore_warn\n",
    "\n",
    "from sklearn.metrics import r2_score, median_absolute_error, mean_absolute_error\n",
    "from sklearn.metrics import median_absolute_error, mean_squared_error, mean_squared_log_error\n",
    "from sklearn.model_selection import KFold\n",
    "from scipy import stats\n",
    "from plotly.offline import init_notebook_mode, iplot\n",
    "from plotly import graph_objs as go\n",
    "\n",
    "start_time = pd.datetime.now()\n",
    "\n",
    "import statsmodels.api as sm\n",
    "# Initialize plotly\n",
    "init_notebook_mode(connected=True)\n",
    "def mean_absolute_percentage_error(y_true, y_pred): \n",
    "    return np.mean(np.abs((y_true - y_pred) / y_true)) * 100\n",
    "\n",
    "pd.option_context(\"display.max_rows\", 1000);\n",
    "pd.option_context(\"display.max_columns\", 1000);"
   ]
  },
  {
   "cell_type": "code",
   "execution_count": 3,
   "metadata": {
    "ExecuteTime": {
     "end_time": "2018-08-18T04:12:00.538767Z",
     "start_time": "2018-08-18T04:12:00.359298Z"
    },
    "_uuid": "5d9785e86c79ec9f6d1a9052df2610e92b0eefe1",
    "hidden": true
   },
   "outputs": [
    {
     "data": {
      "text/plain": [
       "'/Users/mengtianhu/Downloads'"
      ]
     },
     "execution_count": 3,
     "metadata": {},
     "output_type": "execute_result"
    }
   ],
   "source": [
    "os.getcwd()"
   ]
  },
  {
   "cell_type": "code",
   "execution_count": 4,
   "metadata": {
    "ExecuteTime": {
     "end_time": "2018-08-18T04:12:02.338170Z",
     "start_time": "2018-08-18T04:12:00.963632Z"
    },
    "_uuid": "815e17f094efcd299fa23e1d1e10e0e645fb741b",
    "hidden": true
   },
   "outputs": [],
   "source": [
    "df_raw = pd.read_csv('06_2010_625_Variables_BoxL.csv', low_memory=False, parse_dates=['Date'], index_col=['Date'])\n",
    "#subs = pd.read_csv('sample_submission.csv')"
   ]
  },
  {
   "cell_type": "code",
   "execution_count": 5,
   "metadata": {
    "ExecuteTime": {
     "end_time": "2018-08-18T04:12:02.546592Z",
     "start_time": "2018-08-18T04:12:02.338170Z"
    },
    "_uuid": "3ece95dfdd31515c46043492be72527ab4b65b0c",
    "hidden": true
   },
   "outputs": [
    {
     "data": {
      "text/html": [
       "<div>\n",
       "<style scoped>\n",
       "    .dataframe tbody tr th:only-of-type {\n",
       "        vertical-align: middle;\n",
       "    }\n",
       "\n",
       "    .dataframe tbody tr th {\n",
       "        vertical-align: top;\n",
       "    }\n",
       "\n",
       "    .dataframe thead th {\n",
       "        text-align: right;\n",
       "    }\n",
       "</style>\n",
       "<table border=\"1\" class=\"dataframe\">\n",
       "  <thead>\n",
       "    <tr style=\"text-align: right;\">\n",
       "      <th></th>\n",
       "      <th>Unnamed: 0</th>\n",
       "      <th>Hour</th>\n",
       "      <th>Temperature</th>\n",
       "      <th>Load</th>\n",
       "      <th>month</th>\n",
       "      <th>weekday</th>\n",
       "      <th>Distance</th>\n",
       "      <th>TemperatureLag1</th>\n",
       "      <th>TemperatureLag2</th>\n",
       "      <th>TemperatureLag24</th>\n",
       "      <th>...</th>\n",
       "      <th>holiday.temp_mean_6_0.5</th>\n",
       "      <th>holiday.temp_mean_6_2</th>\n",
       "      <th>holiday.temp_mean_6_3</th>\n",
       "      <th>holiday.temp_mean_12_0.5</th>\n",
       "      <th>holiday.temp_mean_12_2</th>\n",
       "      <th>holiday.temp_mean_12_3</th>\n",
       "      <th>holiday.temp_mean_24_0.5</th>\n",
       "      <th>holiday.temp_mean_24_2</th>\n",
       "      <th>holiday.temp_mean_24_3</th>\n",
       "      <th>Load_BoxCox</th>\n",
       "    </tr>\n",
       "    <tr>\n",
       "      <th>Date</th>\n",
       "      <th></th>\n",
       "      <th></th>\n",
       "      <th></th>\n",
       "      <th></th>\n",
       "      <th></th>\n",
       "      <th></th>\n",
       "      <th></th>\n",
       "      <th></th>\n",
       "      <th></th>\n",
       "      <th></th>\n",
       "      <th></th>\n",
       "      <th></th>\n",
       "      <th></th>\n",
       "      <th></th>\n",
       "      <th></th>\n",
       "      <th></th>\n",
       "      <th></th>\n",
       "      <th></th>\n",
       "      <th></th>\n",
       "      <th></th>\n",
       "      <th></th>\n",
       "    </tr>\n",
       "  </thead>\n",
       "  <tbody>\n",
       "    <tr>\n",
       "      <th>2008-01-01</th>\n",
       "      <td>0</td>\n",
       "      <td>1</td>\n",
       "      <td>25.00</td>\n",
       "      <td>10737.0</td>\n",
       "      <td>January</td>\n",
       "      <td>Tuesday</td>\n",
       "      <td>27.00</td>\n",
       "      <td>NaN</td>\n",
       "      <td>NaN</td>\n",
       "      <td>NaN</td>\n",
       "      <td>...</td>\n",
       "      <td>NaN</td>\n",
       "      <td>NaN</td>\n",
       "      <td>NaN</td>\n",
       "      <td>NaN</td>\n",
       "      <td>NaN</td>\n",
       "      <td>NaN</td>\n",
       "      <td>NaN</td>\n",
       "      <td>NaN</td>\n",
       "      <td>NaN</td>\n",
       "      <td>34.469295</td>\n",
       "    </tr>\n",
       "    <tr>\n",
       "      <th>2008-01-01</th>\n",
       "      <td>1</td>\n",
       "      <td>2</td>\n",
       "      <td>24.00</td>\n",
       "      <td>10348.0</td>\n",
       "      <td>January</td>\n",
       "      <td>Tuesday</td>\n",
       "      <td>28.00</td>\n",
       "      <td>25.00</td>\n",
       "      <td>NaN</td>\n",
       "      <td>NaN</td>\n",
       "      <td>...</td>\n",
       "      <td>NaN</td>\n",
       "      <td>NaN</td>\n",
       "      <td>NaN</td>\n",
       "      <td>NaN</td>\n",
       "      <td>NaN</td>\n",
       "      <td>NaN</td>\n",
       "      <td>NaN</td>\n",
       "      <td>NaN</td>\n",
       "      <td>NaN</td>\n",
       "      <td>34.128732</td>\n",
       "    </tr>\n",
       "    <tr>\n",
       "      <th>2008-01-01</th>\n",
       "      <td>2</td>\n",
       "      <td>3</td>\n",
       "      <td>23.00</td>\n",
       "      <td>9997.0</td>\n",
       "      <td>January</td>\n",
       "      <td>Tuesday</td>\n",
       "      <td>29.00</td>\n",
       "      <td>24.00</td>\n",
       "      <td>25.00</td>\n",
       "      <td>NaN</td>\n",
       "      <td>...</td>\n",
       "      <td>NaN</td>\n",
       "      <td>NaN</td>\n",
       "      <td>NaN</td>\n",
       "      <td>NaN</td>\n",
       "      <td>NaN</td>\n",
       "      <td>NaN</td>\n",
       "      <td>NaN</td>\n",
       "      <td>NaN</td>\n",
       "      <td>NaN</td>\n",
       "      <td>33.812981</td>\n",
       "    </tr>\n",
       "    <tr>\n",
       "      <th>2008-01-01</th>\n",
       "      <td>3</td>\n",
       "      <td>4</td>\n",
       "      <td>23.00</td>\n",
       "      <td>9760.0</td>\n",
       "      <td>January</td>\n",
       "      <td>Tuesday</td>\n",
       "      <td>29.00</td>\n",
       "      <td>23.00</td>\n",
       "      <td>24.00</td>\n",
       "      <td>NaN</td>\n",
       "      <td>...</td>\n",
       "      <td>NaN</td>\n",
       "      <td>NaN</td>\n",
       "      <td>NaN</td>\n",
       "      <td>NaN</td>\n",
       "      <td>NaN</td>\n",
       "      <td>NaN</td>\n",
       "      <td>NaN</td>\n",
       "      <td>NaN</td>\n",
       "      <td>NaN</td>\n",
       "      <td>33.594984</td>\n",
       "    </tr>\n",
       "    <tr>\n",
       "      <th>2008-01-01</th>\n",
       "      <td>4</td>\n",
       "      <td>5</td>\n",
       "      <td>23.00</td>\n",
       "      <td>9624.0</td>\n",
       "      <td>January</td>\n",
       "      <td>Tuesday</td>\n",
       "      <td>29.00</td>\n",
       "      <td>23.00</td>\n",
       "      <td>23.00</td>\n",
       "      <td>NaN</td>\n",
       "      <td>...</td>\n",
       "      <td>NaN</td>\n",
       "      <td>NaN</td>\n",
       "      <td>NaN</td>\n",
       "      <td>NaN</td>\n",
       "      <td>NaN</td>\n",
       "      <td>NaN</td>\n",
       "      <td>NaN</td>\n",
       "      <td>NaN</td>\n",
       "      <td>NaN</td>\n",
       "      <td>33.468065</td>\n",
       "    </tr>\n",
       "    <tr>\n",
       "      <th>2008-01-01</th>\n",
       "      <td>5</td>\n",
       "      <td>6</td>\n",
       "      <td>22.33</td>\n",
       "      <td>9619.0</td>\n",
       "      <td>January</td>\n",
       "      <td>Tuesday</td>\n",
       "      <td>29.67</td>\n",
       "      <td>23.00</td>\n",
       "      <td>23.00</td>\n",
       "      <td>NaN</td>\n",
       "      <td>...</td>\n",
       "      <td>4.836149</td>\n",
       "      <td>547.014136</td>\n",
       "      <td>12793.748953</td>\n",
       "      <td>NaN</td>\n",
       "      <td>NaN</td>\n",
       "      <td>NaN</td>\n",
       "      <td>NaN</td>\n",
       "      <td>NaN</td>\n",
       "      <td>NaN</td>\n",
       "      <td>33.463373</td>\n",
       "    </tr>\n",
       "    <tr>\n",
       "      <th>2008-01-01</th>\n",
       "      <td>6</td>\n",
       "      <td>7</td>\n",
       "      <td>21.00</td>\n",
       "      <td>9794.0</td>\n",
       "      <td>January</td>\n",
       "      <td>Tuesday</td>\n",
       "      <td>31.00</td>\n",
       "      <td>22.33</td>\n",
       "      <td>23.00</td>\n",
       "      <td>NaN</td>\n",
       "      <td>...</td>\n",
       "      <td>4.766725</td>\n",
       "      <td>516.274136</td>\n",
       "      <td>11730.608829</td>\n",
       "      <td>NaN</td>\n",
       "      <td>NaN</td>\n",
       "      <td>NaN</td>\n",
       "      <td>NaN</td>\n",
       "      <td>NaN</td>\n",
       "      <td>NaN</td>\n",
       "      <td>33.626503</td>\n",
       "    </tr>\n",
       "    <tr>\n",
       "      <th>2008-01-01</th>\n",
       "      <td>7</td>\n",
       "      <td>8</td>\n",
       "      <td>21.00</td>\n",
       "      <td>10021.0</td>\n",
       "      <td>January</td>\n",
       "      <td>Tuesday</td>\n",
       "      <td>31.00</td>\n",
       "      <td>21.00</td>\n",
       "      <td>22.33</td>\n",
       "      <td>NaN</td>\n",
       "      <td>...</td>\n",
       "      <td>4.713986</td>\n",
       "      <td>493.802469</td>\n",
       "      <td>10973.113875</td>\n",
       "      <td>NaN</td>\n",
       "      <td>NaN</td>\n",
       "      <td>NaN</td>\n",
       "      <td>NaN</td>\n",
       "      <td>NaN</td>\n",
       "      <td>NaN</td>\n",
       "      <td>33.834837</td>\n",
       "    </tr>\n",
       "    <tr>\n",
       "      <th>2008-01-01</th>\n",
       "      <td>8</td>\n",
       "      <td>9</td>\n",
       "      <td>21.00</td>\n",
       "      <td>9984.0</td>\n",
       "      <td>January</td>\n",
       "      <td>Tuesday</td>\n",
       "      <td>31.00</td>\n",
       "      <td>21.00</td>\n",
       "      <td>21.00</td>\n",
       "      <td>NaN</td>\n",
       "      <td>...</td>\n",
       "      <td>4.678497</td>\n",
       "      <td>479.099136</td>\n",
       "      <td>10486.681591</td>\n",
       "      <td>NaN</td>\n",
       "      <td>NaN</td>\n",
       "      <td>NaN</td>\n",
       "      <td>NaN</td>\n",
       "      <td>NaN</td>\n",
       "      <td>NaN</td>\n",
       "      <td>33.801126</td>\n",
       "    </tr>\n",
       "    <tr>\n",
       "      <th>2008-01-01</th>\n",
       "      <td>9</td>\n",
       "      <td>10</td>\n",
       "      <td>21.33</td>\n",
       "      <td>10067.0</td>\n",
       "      <td>January</td>\n",
       "      <td>Tuesday</td>\n",
       "      <td>30.67</td>\n",
       "      <td>21.00</td>\n",
       "      <td>21.00</td>\n",
       "      <td>NaN</td>\n",
       "      <td>...</td>\n",
       "      <td>4.648656</td>\n",
       "      <td>466.992100</td>\n",
       "      <td>10091.699281</td>\n",
       "      <td>NaN</td>\n",
       "      <td>NaN</td>\n",
       "      <td>NaN</td>\n",
       "      <td>NaN</td>\n",
       "      <td>NaN</td>\n",
       "      <td>NaN</td>\n",
       "      <td>33.876617</td>\n",
       "    </tr>\n",
       "  </tbody>\n",
       "</table>\n",
       "<p>10 rows × 625 columns</p>\n",
       "</div>"
      ],
      "text/plain": [
       "            Unnamed: 0  Hour  Temperature     Load    month  weekday  \\\n",
       "Date                                                                   \n",
       "2008-01-01           0     1        25.00  10737.0  January  Tuesday   \n",
       "2008-01-01           1     2        24.00  10348.0  January  Tuesday   \n",
       "2008-01-01           2     3        23.00   9997.0  January  Tuesday   \n",
       "2008-01-01           3     4        23.00   9760.0  January  Tuesday   \n",
       "2008-01-01           4     5        23.00   9624.0  January  Tuesday   \n",
       "2008-01-01           5     6        22.33   9619.0  January  Tuesday   \n",
       "2008-01-01           6     7        21.00   9794.0  January  Tuesday   \n",
       "2008-01-01           7     8        21.00  10021.0  January  Tuesday   \n",
       "2008-01-01           8     9        21.00   9984.0  January  Tuesday   \n",
       "2008-01-01           9    10        21.33  10067.0  January  Tuesday   \n",
       "\n",
       "            Distance  TemperatureLag1  TemperatureLag2  TemperatureLag24  ...  \\\n",
       "Date                                                                      ...   \n",
       "2008-01-01     27.00              NaN              NaN               NaN  ...   \n",
       "2008-01-01     28.00            25.00              NaN               NaN  ...   \n",
       "2008-01-01     29.00            24.00            25.00               NaN  ...   \n",
       "2008-01-01     29.00            23.00            24.00               NaN  ...   \n",
       "2008-01-01     29.00            23.00            23.00               NaN  ...   \n",
       "2008-01-01     29.67            23.00            23.00               NaN  ...   \n",
       "2008-01-01     31.00            22.33            23.00               NaN  ...   \n",
       "2008-01-01     31.00            21.00            22.33               NaN  ...   \n",
       "2008-01-01     31.00            21.00            21.00               NaN  ...   \n",
       "2008-01-01     30.67            21.00            21.00               NaN  ...   \n",
       "\n",
       "            holiday.temp_mean_6_0.5  holiday.temp_mean_6_2  \\\n",
       "Date                                                         \n",
       "2008-01-01                      NaN                    NaN   \n",
       "2008-01-01                      NaN                    NaN   \n",
       "2008-01-01                      NaN                    NaN   \n",
       "2008-01-01                      NaN                    NaN   \n",
       "2008-01-01                      NaN                    NaN   \n",
       "2008-01-01                 4.836149             547.014136   \n",
       "2008-01-01                 4.766725             516.274136   \n",
       "2008-01-01                 4.713986             493.802469   \n",
       "2008-01-01                 4.678497             479.099136   \n",
       "2008-01-01                 4.648656             466.992100   \n",
       "\n",
       "            holiday.temp_mean_6_3  holiday.temp_mean_12_0.5  \\\n",
       "Date                                                          \n",
       "2008-01-01                    NaN                       NaN   \n",
       "2008-01-01                    NaN                       NaN   \n",
       "2008-01-01                    NaN                       NaN   \n",
       "2008-01-01                    NaN                       NaN   \n",
       "2008-01-01                    NaN                       NaN   \n",
       "2008-01-01           12793.748953                       NaN   \n",
       "2008-01-01           11730.608829                       NaN   \n",
       "2008-01-01           10973.113875                       NaN   \n",
       "2008-01-01           10486.681591                       NaN   \n",
       "2008-01-01           10091.699281                       NaN   \n",
       "\n",
       "            holiday.temp_mean_12_2  holiday.temp_mean_12_3  \\\n",
       "Date                                                         \n",
       "2008-01-01                     NaN                     NaN   \n",
       "2008-01-01                     NaN                     NaN   \n",
       "2008-01-01                     NaN                     NaN   \n",
       "2008-01-01                     NaN                     NaN   \n",
       "2008-01-01                     NaN                     NaN   \n",
       "2008-01-01                     NaN                     NaN   \n",
       "2008-01-01                     NaN                     NaN   \n",
       "2008-01-01                     NaN                     NaN   \n",
       "2008-01-01                     NaN                     NaN   \n",
       "2008-01-01                     NaN                     NaN   \n",
       "\n",
       "            holiday.temp_mean_24_0.5  holiday.temp_mean_24_2  \\\n",
       "Date                                                           \n",
       "2008-01-01                       NaN                     NaN   \n",
       "2008-01-01                       NaN                     NaN   \n",
       "2008-01-01                       NaN                     NaN   \n",
       "2008-01-01                       NaN                     NaN   \n",
       "2008-01-01                       NaN                     NaN   \n",
       "2008-01-01                       NaN                     NaN   \n",
       "2008-01-01                       NaN                     NaN   \n",
       "2008-01-01                       NaN                     NaN   \n",
       "2008-01-01                       NaN                     NaN   \n",
       "2008-01-01                       NaN                     NaN   \n",
       "\n",
       "            holiday.temp_mean_24_3  Load_BoxCox  \n",
       "Date                                             \n",
       "2008-01-01                     NaN    34.469295  \n",
       "2008-01-01                     NaN    34.128732  \n",
       "2008-01-01                     NaN    33.812981  \n",
       "2008-01-01                     NaN    33.594984  \n",
       "2008-01-01                     NaN    33.468065  \n",
       "2008-01-01                     NaN    33.463373  \n",
       "2008-01-01                     NaN    33.626503  \n",
       "2008-01-01                     NaN    33.834837  \n",
       "2008-01-01                     NaN    33.801126  \n",
       "2008-01-01                     NaN    33.876617  \n",
       "\n",
       "[10 rows x 625 columns]"
      ]
     },
     "execution_count": 5,
     "metadata": {},
     "output_type": "execute_result"
    }
   ],
   "source": [
    "df_raw.head(10)"
   ]
  },
  {
   "cell_type": "code",
   "execution_count": 6,
   "metadata": {},
   "outputs": [],
   "source": [
    "df_raw=df_raw.drop('Unnamed: 0',axis=1)"
   ]
  },
  {
   "cell_type": "code",
   "execution_count": 14,
   "metadata": {},
   "outputs": [
    {
     "data": {
      "text/plain": [
       "Hour                          int64\n",
       "Temperature                 float64\n",
       "Load                        float64\n",
       "month                        object\n",
       "weekday                      object\n",
       "Distance                    float64\n",
       "TemperatureLag1             float64\n",
       "TemperatureLag2             float64\n",
       "TemperatureLag24            float64\n",
       "TemperatureLag48            float64\n",
       "Temperature_2_Lag           float64\n",
       "Temperature_2_Lag1          float64\n",
       "Temperature_2_Lag2          float64\n",
       "Temperature_2_Lag24         float64\n",
       "Temperature_2_Lag48         float64\n",
       "Temperature_3_Lag           float64\n",
       "Temperature_3_Lag1          float64\n",
       "Temperature_3_Lag2          float64\n",
       "Temperature_3_Lag24         float64\n",
       "Temperature_3_Lag48         float64\n",
       "Temperature_0.5_Lag         float64\n",
       "Temperature_0.5_Lag1        float64\n",
       "Temperature_0.5_Lag2        float64\n",
       "Temperature_0.5_Lag24       float64\n",
       "Temperature_0.5_Lag48       float64\n",
       "DistanceLag1                float64\n",
       "DistanceLag2                float64\n",
       "DistanceLag24               float64\n",
       "DistanceLag48               float64\n",
       "Distance_2_Lag              float64\n",
       "                             ...   \n",
       "holiday.temp_max_24_2       float64\n",
       "holiday.temp_max_24_3       float64\n",
       "holiday.temp_min_6_0.5      float64\n",
       "holiday.temp_min_6_2        float64\n",
       "holiday.temp_min_6_3        float64\n",
       "holiday.temp_min_12_0.5     float64\n",
       "holiday.temp_min_12_2       float64\n",
       "holiday.temp_min_12_3       float64\n",
       "holiday.temp_min_24_0.5     float64\n",
       "holiday.temp_min_24_2       float64\n",
       "holiday.temp_min_24_3       float64\n",
       "holiday.temp_std_6_0.5      float64\n",
       "holiday.temp_std_6_2        float64\n",
       "holiday.temp_std_6_3        float64\n",
       "holiday.temp_std_12_0.5     float64\n",
       "holiday.temp_std_12_2       float64\n",
       "holiday.temp_std_12_3       float64\n",
       "holiday.temp_std_24_0.5     float64\n",
       "holiday.temp_std_24_2       float64\n",
       "holiday.temp_std_24_3       float64\n",
       "holiday.temp_mean_6_0.5     float64\n",
       "holiday.temp_mean_6_2       float64\n",
       "holiday.temp_mean_6_3       float64\n",
       "holiday.temp_mean_12_0.5    float64\n",
       "holiday.temp_mean_12_2      float64\n",
       "holiday.temp_mean_12_3      float64\n",
       "holiday.temp_mean_24_0.5    float64\n",
       "holiday.temp_mean_24_2      float64\n",
       "holiday.temp_mean_24_3      float64\n",
       "Load_BoxCox                 float64\n",
       "Length: 624, dtype: object"
      ]
     },
     "execution_count": 14,
     "metadata": {},
     "output_type": "execute_result"
    }
   ],
   "source": [
    "df_raw.dtypes"
   ]
  },
  {
   "cell_type": "code",
   "execution_count": 15,
   "metadata": {},
   "outputs": [],
   "source": [
    "# str(df_raw['Hour'])"
   ]
  },
  {
   "cell_type": "code",
   "execution_count": 16,
   "metadata": {},
   "outputs": [],
   "source": [
    "# df_raw['ds']=df_raw.index+' '+str(df_raw['Hour'])"
   ]
  },
  {
   "cell_type": "code",
   "execution_count": 17,
   "metadata": {},
   "outputs": [
    {
     "data": {
      "text/plain": [
       "(43848, 624)"
      ]
     },
     "execution_count": 17,
     "metadata": {},
     "output_type": "execute_result"
    }
   ],
   "source": [
    "df_raw.shape"
   ]
  },
  {
   "cell_type": "code",
   "execution_count": 18,
   "metadata": {},
   "outputs": [],
   "source": [
    "df_train = df_raw[df_raw.index<'2011-01-01']\n",
    "df_test = df_raw[(df_raw.index>='2011-01-01') & (df_raw.index<'2012-01-01')]"
   ]
  },
  {
   "cell_type": "code",
   "execution_count": 19,
   "metadata": {
    "ExecuteTime": {
     "end_time": "2018-08-18T04:12:02.918070Z",
     "start_time": "2018-08-18T04:12:02.730572Z"
    },
    "_uuid": "6c73873f0586657e508c753f226fb94fca35807b",
    "hidden": true
   },
   "outputs": [
    {
     "data": {
      "text/html": [
       "<div>\n",
       "<style scoped>\n",
       "    .dataframe tbody tr th:only-of-type {\n",
       "        vertical-align: middle;\n",
       "    }\n",
       "\n",
       "    .dataframe tbody tr th {\n",
       "        vertical-align: top;\n",
       "    }\n",
       "\n",
       "    .dataframe thead th {\n",
       "        text-align: right;\n",
       "    }\n",
       "</style>\n",
       "<table border=\"1\" class=\"dataframe\">\n",
       "  <thead>\n",
       "    <tr style=\"text-align: right;\">\n",
       "      <th></th>\n",
       "      <th>Hour</th>\n",
       "      <th>Temperature</th>\n",
       "      <th>Load</th>\n",
       "      <th>month</th>\n",
       "      <th>weekday</th>\n",
       "      <th>Distance</th>\n",
       "      <th>TemperatureLag1</th>\n",
       "      <th>TemperatureLag2</th>\n",
       "      <th>TemperatureLag24</th>\n",
       "      <th>TemperatureLag48</th>\n",
       "      <th>...</th>\n",
       "      <th>holiday.temp_mean_6_0.5</th>\n",
       "      <th>holiday.temp_mean_6_2</th>\n",
       "      <th>holiday.temp_mean_6_3</th>\n",
       "      <th>holiday.temp_mean_12_0.5</th>\n",
       "      <th>holiday.temp_mean_12_2</th>\n",
       "      <th>holiday.temp_mean_12_3</th>\n",
       "      <th>holiday.temp_mean_24_0.5</th>\n",
       "      <th>holiday.temp_mean_24_2</th>\n",
       "      <th>holiday.temp_mean_24_3</th>\n",
       "      <th>Load_BoxCox</th>\n",
       "    </tr>\n",
       "    <tr>\n",
       "      <th>Date</th>\n",
       "      <th></th>\n",
       "      <th></th>\n",
       "      <th></th>\n",
       "      <th></th>\n",
       "      <th></th>\n",
       "      <th></th>\n",
       "      <th></th>\n",
       "      <th></th>\n",
       "      <th></th>\n",
       "      <th></th>\n",
       "      <th></th>\n",
       "      <th></th>\n",
       "      <th></th>\n",
       "      <th></th>\n",
       "      <th></th>\n",
       "      <th></th>\n",
       "      <th></th>\n",
       "      <th></th>\n",
       "      <th></th>\n",
       "      <th></th>\n",
       "      <th></th>\n",
       "    </tr>\n",
       "  </thead>\n",
       "  <tbody>\n",
       "    <tr>\n",
       "      <th>2011-01-01</th>\n",
       "      <td>1</td>\n",
       "      <td>39.33</td>\n",
       "      <td>9627.0</td>\n",
       "      <td>January</td>\n",
       "      <td>Saturday</td>\n",
       "      <td>12.67</td>\n",
       "      <td>41.33</td>\n",
       "      <td>48.33</td>\n",
       "      <td>45.33</td>\n",
       "      <td>35.00</td>\n",
       "      <td>...</td>\n",
       "      <td>0.0</td>\n",
       "      <td>0.0</td>\n",
       "      <td>0.0</td>\n",
       "      <td>0.0</td>\n",
       "      <td>0.0</td>\n",
       "      <td>0.0</td>\n",
       "      <td>0.0</td>\n",
       "      <td>0.0</td>\n",
       "      <td>0.0</td>\n",
       "      <td>33.470880</td>\n",
       "    </tr>\n",
       "    <tr>\n",
       "      <th>2011-01-01</th>\n",
       "      <td>2</td>\n",
       "      <td>36.67</td>\n",
       "      <td>9268.0</td>\n",
       "      <td>January</td>\n",
       "      <td>Saturday</td>\n",
       "      <td>15.33</td>\n",
       "      <td>39.33</td>\n",
       "      <td>41.33</td>\n",
       "      <td>45.33</td>\n",
       "      <td>35.67</td>\n",
       "      <td>...</td>\n",
       "      <td>0.0</td>\n",
       "      <td>0.0</td>\n",
       "      <td>0.0</td>\n",
       "      <td>0.0</td>\n",
       "      <td>0.0</td>\n",
       "      <td>0.0</td>\n",
       "      <td>0.0</td>\n",
       "      <td>0.0</td>\n",
       "      <td>0.0</td>\n",
       "      <td>33.129259</td>\n",
       "    </tr>\n",
       "    <tr>\n",
       "      <th>2011-01-01</th>\n",
       "      <td>3</td>\n",
       "      <td>35.33</td>\n",
       "      <td>9007.0</td>\n",
       "      <td>January</td>\n",
       "      <td>Saturday</td>\n",
       "      <td>16.67</td>\n",
       "      <td>36.67</td>\n",
       "      <td>39.33</td>\n",
       "      <td>46.33</td>\n",
       "      <td>35.67</td>\n",
       "      <td>...</td>\n",
       "      <td>0.0</td>\n",
       "      <td>0.0</td>\n",
       "      <td>0.0</td>\n",
       "      <td>0.0</td>\n",
       "      <td>0.0</td>\n",
       "      <td>0.0</td>\n",
       "      <td>0.0</td>\n",
       "      <td>0.0</td>\n",
       "      <td>0.0</td>\n",
       "      <td>32.874523</td>\n",
       "    </tr>\n",
       "    <tr>\n",
       "      <th>2011-01-01</th>\n",
       "      <td>4</td>\n",
       "      <td>32.00</td>\n",
       "      <td>8737.0</td>\n",
       "      <td>January</td>\n",
       "      <td>Saturday</td>\n",
       "      <td>20.00</td>\n",
       "      <td>35.33</td>\n",
       "      <td>36.67</td>\n",
       "      <td>46.00</td>\n",
       "      <td>35.67</td>\n",
       "      <td>...</td>\n",
       "      <td>0.0</td>\n",
       "      <td>0.0</td>\n",
       "      <td>0.0</td>\n",
       "      <td>0.0</td>\n",
       "      <td>0.0</td>\n",
       "      <td>0.0</td>\n",
       "      <td>0.0</td>\n",
       "      <td>0.0</td>\n",
       "      <td>0.0</td>\n",
       "      <td>32.605030</td>\n",
       "    </tr>\n",
       "    <tr>\n",
       "      <th>2011-01-01</th>\n",
       "      <td>5</td>\n",
       "      <td>29.67</td>\n",
       "      <td>8689.0</td>\n",
       "      <td>January</td>\n",
       "      <td>Saturday</td>\n",
       "      <td>22.33</td>\n",
       "      <td>32.00</td>\n",
       "      <td>35.33</td>\n",
       "      <td>44.67</td>\n",
       "      <td>35.67</td>\n",
       "      <td>...</td>\n",
       "      <td>0.0</td>\n",
       "      <td>0.0</td>\n",
       "      <td>0.0</td>\n",
       "      <td>0.0</td>\n",
       "      <td>0.0</td>\n",
       "      <td>0.0</td>\n",
       "      <td>0.0</td>\n",
       "      <td>0.0</td>\n",
       "      <td>0.0</td>\n",
       "      <td>32.556459</td>\n",
       "    </tr>\n",
       "  </tbody>\n",
       "</table>\n",
       "<p>5 rows × 624 columns</p>\n",
       "</div>"
      ],
      "text/plain": [
       "            Hour  Temperature    Load    month   weekday  Distance  \\\n",
       "Date                                                                 \n",
       "2011-01-01     1        39.33  9627.0  January  Saturday     12.67   \n",
       "2011-01-01     2        36.67  9268.0  January  Saturday     15.33   \n",
       "2011-01-01     3        35.33  9007.0  January  Saturday     16.67   \n",
       "2011-01-01     4        32.00  8737.0  January  Saturday     20.00   \n",
       "2011-01-01     5        29.67  8689.0  January  Saturday     22.33   \n",
       "\n",
       "            TemperatureLag1  TemperatureLag2  TemperatureLag24  \\\n",
       "Date                                                             \n",
       "2011-01-01            41.33            48.33             45.33   \n",
       "2011-01-01            39.33            41.33             45.33   \n",
       "2011-01-01            36.67            39.33             46.33   \n",
       "2011-01-01            35.33            36.67             46.00   \n",
       "2011-01-01            32.00            35.33             44.67   \n",
       "\n",
       "            TemperatureLag48  ...  holiday.temp_mean_6_0.5  \\\n",
       "Date                          ...                            \n",
       "2011-01-01             35.00  ...                      0.0   \n",
       "2011-01-01             35.67  ...                      0.0   \n",
       "2011-01-01             35.67  ...                      0.0   \n",
       "2011-01-01             35.67  ...                      0.0   \n",
       "2011-01-01             35.67  ...                      0.0   \n",
       "\n",
       "            holiday.temp_mean_6_2  holiday.temp_mean_6_3  \\\n",
       "Date                                                       \n",
       "2011-01-01                    0.0                    0.0   \n",
       "2011-01-01                    0.0                    0.0   \n",
       "2011-01-01                    0.0                    0.0   \n",
       "2011-01-01                    0.0                    0.0   \n",
       "2011-01-01                    0.0                    0.0   \n",
       "\n",
       "            holiday.temp_mean_12_0.5  holiday.temp_mean_12_2  \\\n",
       "Date                                                           \n",
       "2011-01-01                       0.0                     0.0   \n",
       "2011-01-01                       0.0                     0.0   \n",
       "2011-01-01                       0.0                     0.0   \n",
       "2011-01-01                       0.0                     0.0   \n",
       "2011-01-01                       0.0                     0.0   \n",
       "\n",
       "            holiday.temp_mean_12_3  holiday.temp_mean_24_0.5  \\\n",
       "Date                                                           \n",
       "2011-01-01                     0.0                       0.0   \n",
       "2011-01-01                     0.0                       0.0   \n",
       "2011-01-01                     0.0                       0.0   \n",
       "2011-01-01                     0.0                       0.0   \n",
       "2011-01-01                     0.0                       0.0   \n",
       "\n",
       "            holiday.temp_mean_24_2  holiday.temp_mean_24_3  Load_BoxCox  \n",
       "Date                                                                     \n",
       "2011-01-01                     0.0                     0.0    33.470880  \n",
       "2011-01-01                     0.0                     0.0    33.129259  \n",
       "2011-01-01                     0.0                     0.0    32.874523  \n",
       "2011-01-01                     0.0                     0.0    32.605030  \n",
       "2011-01-01                     0.0                     0.0    32.556459  \n",
       "\n",
       "[5 rows x 624 columns]"
      ]
     },
     "execution_count": 19,
     "metadata": {},
     "output_type": "execute_result"
    }
   ],
   "source": [
    "df_test.head()"
   ]
  },
  {
   "cell_type": "code",
   "execution_count": 20,
   "metadata": {},
   "outputs": [
    {
     "data": {
      "text/html": [
       "<div>\n",
       "<style scoped>\n",
       "    .dataframe tbody tr th:only-of-type {\n",
       "        vertical-align: middle;\n",
       "    }\n",
       "\n",
       "    .dataframe tbody tr th {\n",
       "        vertical-align: top;\n",
       "    }\n",
       "\n",
       "    .dataframe thead th {\n",
       "        text-align: right;\n",
       "    }\n",
       "</style>\n",
       "<table border=\"1\" class=\"dataframe\">\n",
       "  <thead>\n",
       "    <tr style=\"text-align: right;\">\n",
       "      <th></th>\n",
       "      <th>Hour</th>\n",
       "      <th>Temperature</th>\n",
       "      <th>Load</th>\n",
       "      <th>Distance</th>\n",
       "      <th>TemperatureLag1</th>\n",
       "      <th>TemperatureLag2</th>\n",
       "      <th>TemperatureLag24</th>\n",
       "      <th>TemperatureLag48</th>\n",
       "      <th>Temperature_2_Lag</th>\n",
       "      <th>Temperature_2_Lag1</th>\n",
       "      <th>...</th>\n",
       "      <th>holiday.temp_mean_6_0.5</th>\n",
       "      <th>holiday.temp_mean_6_2</th>\n",
       "      <th>holiday.temp_mean_6_3</th>\n",
       "      <th>holiday.temp_mean_12_0.5</th>\n",
       "      <th>holiday.temp_mean_12_2</th>\n",
       "      <th>holiday.temp_mean_12_3</th>\n",
       "      <th>holiday.temp_mean_24_0.5</th>\n",
       "      <th>holiday.temp_mean_24_2</th>\n",
       "      <th>holiday.temp_mean_24_3</th>\n",
       "      <th>Load_BoxCox</th>\n",
       "    </tr>\n",
       "  </thead>\n",
       "  <tbody>\n",
       "    <tr>\n",
       "      <th>count</th>\n",
       "      <td>43848.000000</td>\n",
       "      <td>43848.000000</td>\n",
       "      <td>35064.000000</td>\n",
       "      <td>43848.000000</td>\n",
       "      <td>43847.000000</td>\n",
       "      <td>43846.000000</td>\n",
       "      <td>43824.000000</td>\n",
       "      <td>43800.000000</td>\n",
       "      <td>43848.000000</td>\n",
       "      <td>43847.000000</td>\n",
       "      <td>...</td>\n",
       "      <td>43843.000000</td>\n",
       "      <td>43843.000000</td>\n",
       "      <td>43843.000000</td>\n",
       "      <td>43837.000000</td>\n",
       "      <td>43837.000000</td>\n",
       "      <td>43837.000000</td>\n",
       "      <td>43825.000000</td>\n",
       "      <td>43825.000000</td>\n",
       "      <td>43825.000000</td>\n",
       "      <td>35064.000000</td>\n",
       "    </tr>\n",
       "    <tr>\n",
       "      <th>mean</th>\n",
       "      <td>12.500000</td>\n",
       "      <td>50.334529</td>\n",
       "      <td>11639.447525</td>\n",
       "      <td>17.300641</td>\n",
       "      <td>50.335259</td>\n",
       "      <td>50.335966</td>\n",
       "      <td>50.346852</td>\n",
       "      <td>50.361783</td>\n",
       "      <td>2953.131173</td>\n",
       "      <td>2953.193938</td>\n",
       "      <td>...</td>\n",
       "      <td>0.153987</td>\n",
       "      <td>61.569738</td>\n",
       "      <td>4065.693620</td>\n",
       "      <td>0.153464</td>\n",
       "      <td>61.036809</td>\n",
       "      <td>3999.210800</td>\n",
       "      <td>0.152521</td>\n",
       "      <td>60.120615</td>\n",
       "      <td>3884.846887</td>\n",
       "      <td>35.091289</td>\n",
       "    </tr>\n",
       "    <tr>\n",
       "      <th>std</th>\n",
       "      <td>6.922265</td>\n",
       "      <td>20.490564</td>\n",
       "      <td>2317.204003</td>\n",
       "      <td>11.104868</td>\n",
       "      <td>20.490228</td>\n",
       "      <td>20.489927</td>\n",
       "      <td>20.489070</td>\n",
       "      <td>20.483996</td>\n",
       "      <td>2041.361709</td>\n",
       "      <td>2041.342273</td>\n",
       "      <td>...</td>\n",
       "      <td>1.024616</td>\n",
       "      <td>536.285543</td>\n",
       "      <td>41129.353004</td>\n",
       "      <td>1.022452</td>\n",
       "      <td>528.995382</td>\n",
       "      <td>39993.350580</td>\n",
       "      <td>1.019119</td>\n",
       "      <td>516.812764</td>\n",
       "      <td>38245.902480</td>\n",
       "      <td>1.806090</td>\n",
       "    </tr>\n",
       "    <tr>\n",
       "      <th>min</th>\n",
       "      <td>1.000000</td>\n",
       "      <td>-17.330000</td>\n",
       "      <td>7223.000000</td>\n",
       "      <td>0.000000</td>\n",
       "      <td>-17.330000</td>\n",
       "      <td>-17.330000</td>\n",
       "      <td>-17.330000</td>\n",
       "      <td>-17.330000</td>\n",
       "      <td>-300.328900</td>\n",
       "      <td>-300.328900</td>\n",
       "      <td>...</td>\n",
       "      <td>0.000000</td>\n",
       "      <td>0.000000</td>\n",
       "      <td>0.000000</td>\n",
       "      <td>0.000000</td>\n",
       "      <td>0.000000</td>\n",
       "      <td>0.000000</td>\n",
       "      <td>0.000000</td>\n",
       "      <td>0.000000</td>\n",
       "      <td>0.000000</td>\n",
       "      <td>30.963908</td>\n",
       "    </tr>\n",
       "    <tr>\n",
       "      <th>25%</th>\n",
       "      <td>6.750000</td>\n",
       "      <td>34.330000</td>\n",
       "      <td>9962.000000</td>\n",
       "      <td>8.330000</td>\n",
       "      <td>34.330000</td>\n",
       "      <td>34.330000</td>\n",
       "      <td>34.330000</td>\n",
       "      <td>34.330000</td>\n",
       "      <td>1178.548900</td>\n",
       "      <td>1178.548900</td>\n",
       "      <td>...</td>\n",
       "      <td>0.000000</td>\n",
       "      <td>0.000000</td>\n",
       "      <td>0.000000</td>\n",
       "      <td>0.000000</td>\n",
       "      <td>0.000000</td>\n",
       "      <td>0.000000</td>\n",
       "      <td>0.000000</td>\n",
       "      <td>0.000000</td>\n",
       "      <td>0.000000</td>\n",
       "      <td>33.781037</td>\n",
       "    </tr>\n",
       "    <tr>\n",
       "      <th>50%</th>\n",
       "      <td>12.500000</td>\n",
       "      <td>51.000000</td>\n",
       "      <td>11450.000000</td>\n",
       "      <td>16.330000</td>\n",
       "      <td>51.000000</td>\n",
       "      <td>51.000000</td>\n",
       "      <td>51.000000</td>\n",
       "      <td>51.000000</td>\n",
       "      <td>2601.000000</td>\n",
       "      <td>2601.000000</td>\n",
       "      <td>...</td>\n",
       "      <td>0.000000</td>\n",
       "      <td>0.000000</td>\n",
       "      <td>0.000000</td>\n",
       "      <td>0.000000</td>\n",
       "      <td>0.000000</td>\n",
       "      <td>0.000000</td>\n",
       "      <td>0.000000</td>\n",
       "      <td>0.000000</td>\n",
       "      <td>0.000000</td>\n",
       "      <td>35.069898</td>\n",
       "    </tr>\n",
       "    <tr>\n",
       "      <th>75%</th>\n",
       "      <td>18.250000</td>\n",
       "      <td>67.000000</td>\n",
       "      <td>12811.000000</td>\n",
       "      <td>24.330000</td>\n",
       "      <td>67.000000</td>\n",
       "      <td>67.000000</td>\n",
       "      <td>67.000000</td>\n",
       "      <td>67.000000</td>\n",
       "      <td>4489.000000</td>\n",
       "      <td>4489.000000</td>\n",
       "      <td>...</td>\n",
       "      <td>0.000000</td>\n",
       "      <td>0.000000</td>\n",
       "      <td>0.000000</td>\n",
       "      <td>0.000000</td>\n",
       "      <td>0.000000</td>\n",
       "      <td>0.000000</td>\n",
       "      <td>0.000000</td>\n",
       "      <td>0.000000</td>\n",
       "      <td>0.000000</td>\n",
       "      <td>36.141571</td>\n",
       "    </tr>\n",
       "    <tr>\n",
       "      <th>max</th>\n",
       "      <td>24.000000</td>\n",
       "      <td>101.000000</td>\n",
       "      <td>23753.000000</td>\n",
       "      <td>69.330000</td>\n",
       "      <td>101.000000</td>\n",
       "      <td>101.000000</td>\n",
       "      <td>101.000000</td>\n",
       "      <td>101.000000</td>\n",
       "      <td>10201.000000</td>\n",
       "      <td>10201.000000</td>\n",
       "      <td>...</td>\n",
       "      <td>9.947110</td>\n",
       "      <td>9790.113025</td>\n",
       "      <td>968682.733259</td>\n",
       "      <td>9.814955</td>\n",
       "      <td>9280.111111</td>\n",
       "      <td>893984.037037</td>\n",
       "      <td>9.469270</td>\n",
       "      <td>8040.185834</td>\n",
       "      <td>720940.013149</td>\n",
       "      <td>42.577278</td>\n",
       "    </tr>\n",
       "  </tbody>\n",
       "</table>\n",
       "<p>8 rows × 622 columns</p>\n",
       "</div>"
      ],
      "text/plain": [
       "               Hour   Temperature          Load      Distance  \\\n",
       "count  43848.000000  43848.000000  35064.000000  43848.000000   \n",
       "mean      12.500000     50.334529  11639.447525     17.300641   \n",
       "std        6.922265     20.490564   2317.204003     11.104868   \n",
       "min        1.000000    -17.330000   7223.000000      0.000000   \n",
       "25%        6.750000     34.330000   9962.000000      8.330000   \n",
       "50%       12.500000     51.000000  11450.000000     16.330000   \n",
       "75%       18.250000     67.000000  12811.000000     24.330000   \n",
       "max       24.000000    101.000000  23753.000000     69.330000   \n",
       "\n",
       "       TemperatureLag1  TemperatureLag2  TemperatureLag24  TemperatureLag48  \\\n",
       "count     43847.000000     43846.000000      43824.000000      43800.000000   \n",
       "mean         50.335259        50.335966         50.346852         50.361783   \n",
       "std          20.490228        20.489927         20.489070         20.483996   \n",
       "min         -17.330000       -17.330000        -17.330000        -17.330000   \n",
       "25%          34.330000        34.330000         34.330000         34.330000   \n",
       "50%          51.000000        51.000000         51.000000         51.000000   \n",
       "75%          67.000000        67.000000         67.000000         67.000000   \n",
       "max         101.000000       101.000000        101.000000        101.000000   \n",
       "\n",
       "       Temperature_2_Lag  Temperature_2_Lag1  ...  holiday.temp_mean_6_0.5  \\\n",
       "count       43848.000000        43847.000000  ...             43843.000000   \n",
       "mean         2953.131173         2953.193938  ...                 0.153987   \n",
       "std          2041.361709         2041.342273  ...                 1.024616   \n",
       "min          -300.328900         -300.328900  ...                 0.000000   \n",
       "25%          1178.548900         1178.548900  ...                 0.000000   \n",
       "50%          2601.000000         2601.000000  ...                 0.000000   \n",
       "75%          4489.000000         4489.000000  ...                 0.000000   \n",
       "max         10201.000000        10201.000000  ...                 9.947110   \n",
       "\n",
       "       holiday.temp_mean_6_2  holiday.temp_mean_6_3  holiday.temp_mean_12_0.5  \\\n",
       "count           43843.000000           43843.000000              43837.000000   \n",
       "mean               61.569738            4065.693620                  0.153464   \n",
       "std               536.285543           41129.353004                  1.022452   \n",
       "min                 0.000000               0.000000                  0.000000   \n",
       "25%                 0.000000               0.000000                  0.000000   \n",
       "50%                 0.000000               0.000000                  0.000000   \n",
       "75%                 0.000000               0.000000                  0.000000   \n",
       "max              9790.113025          968682.733259                  9.814955   \n",
       "\n",
       "       holiday.temp_mean_12_2  holiday.temp_mean_12_3  \\\n",
       "count            43837.000000            43837.000000   \n",
       "mean                61.036809             3999.210800   \n",
       "std                528.995382            39993.350580   \n",
       "min                  0.000000                0.000000   \n",
       "25%                  0.000000                0.000000   \n",
       "50%                  0.000000                0.000000   \n",
       "75%                  0.000000                0.000000   \n",
       "max               9280.111111           893984.037037   \n",
       "\n",
       "       holiday.temp_mean_24_0.5  holiday.temp_mean_24_2  \\\n",
       "count              43825.000000            43825.000000   \n",
       "mean                   0.152521               60.120615   \n",
       "std                    1.019119              516.812764   \n",
       "min                    0.000000                0.000000   \n",
       "25%                    0.000000                0.000000   \n",
       "50%                    0.000000                0.000000   \n",
       "75%                    0.000000                0.000000   \n",
       "max                    9.469270             8040.185834   \n",
       "\n",
       "       holiday.temp_mean_24_3   Load_BoxCox  \n",
       "count            43825.000000  35064.000000  \n",
       "mean              3884.846887     35.091289  \n",
       "std              38245.902480      1.806090  \n",
       "min                  0.000000     30.963908  \n",
       "25%                  0.000000     33.781037  \n",
       "50%                  0.000000     35.069898  \n",
       "75%                  0.000000     36.141571  \n",
       "max             720940.013149     42.577278  \n",
       "\n",
       "[8 rows x 622 columns]"
      ]
     },
     "execution_count": 20,
     "metadata": {},
     "output_type": "execute_result"
    }
   ],
   "source": [
    "df_raw.describe()"
   ]
  },
  {
   "cell_type": "code",
   "execution_count": 22,
   "metadata": {
    "ExecuteTime": {
     "end_time": "2018-08-17T17:37:16.276332Z",
     "start_time": "2018-08-17T17:37:15.827907Z"
    },
    "_uuid": "f64a72705e0d38a89e50c273cfedf702329ea5bc"
   },
   "outputs": [],
   "source": [
    "y = df_train['Load_BoxCox']"
   ]
  },
  {
   "cell_type": "code",
   "execution_count": 23,
   "metadata": {
    "_uuid": "784286dc3c902defad9893c7909c7750ad8fbd8b"
   },
   "outputs": [
    {
     "data": {
      "image/png": "[encoded data removed]",
      "text/plain": [
       "<Figure size 1080x432 with 1 Axes>"
      ]
     },
     "metadata": {
      "needs_background": "light"
     },
     "output_type": "display_data"
    }
   ],
   "source": [
    "y.plot(figsize=(15, 6),);\n",
    "#The time-series has seasonality pattern, such as sales are always low at the beginning of the year and high at the middle(festive season maybe) of the year\n",
    "# and again low at the end of the year...\n",
    "#There is always an upward trend within any single year with a couple of low months in the mid of the year..."
   ]
  },
  {
   "cell_type": "code",
   "execution_count": 24,
   "metadata": {
    "_uuid": "75e1490d37d109d7ae549ed985cbaaa7b35694bb"
   },
   "outputs": [
    {
     "data": {
      "image/png": "[encoded data removed]",
      "text/plain": [
       "<Figure size 432x288 with 4 Axes>"
      ]
     },
     "metadata": {
      "needs_background": "light"
     },
     "output_type": "display_data"
    }
   ],
   "source": [
    "#We can also visualize our data using a method called time-series decomposition that allows us to decompose our time series into three distinct components: \n",
    "#trend, seasonality, and noise.\n",
    "decomposition = sm.tsa.seasonal_decompose(y, model='additive',freq=30)\n",
    "decomposition.plot();\n",
    "#The plot clearly shows that the sales is unstable, along with its obvious seasonality.;"
   ]
  },
  {
   "cell_type": "code",
   "execution_count": 25,
   "metadata": {
    "_uuid": "aa019f994626bd6faebdd186f777a22e34f54c7e"
   },
   "outputs": [
    {
     "data": {
      "image/png": "[encoded data removed]",
      "text/plain": [
       "<Figure size 432x288 with 4 Axes>"
      ]
     },
     "metadata": {
      "needs_background": "light"
     },
     "output_type": "display_data"
    }
   ],
   "source": [
    "#We can also visualize our data using a method called time-series decomposition that allows us to decompose our time series into three distinct components: \n",
    "#trend, seasonality, and noise.\n",
    "decomposition = sm.tsa.seasonal_decompose(y, model='multiplicative',freq=30)\n",
    "decomposition.plot();\n",
    "#The plot above clearly shows that the sales is unstable, along with its obvious seasonality.;"
   ]
  },
  {
   "cell_type": "markdown",
   "metadata": {
    "_uuid": "e9859fec2ef7712ef333c9d1a5ba55afe6ea5a84",
    "heading_collapsed": true
   },
   "source": [
    "## Basic ARIMA"
   ]
  },
  {
   "cell_type": "markdown",
   "metadata": {
    "_uuid": "bf22d3f37c5875b7ab6025ee56b18b445e7deae3",
    "hidden": true
   },
   "source": [
    "**We are going to apply one of the most commonly used method for time-series forecasting, known as ARIMA, which stands for Autoregressive Integrated Moving Average.**\n",
    "\n",
    "**ARIMA models are denoted with the notation ARIMA(p, d, q). These three parameters account for seasonality, trend, and noise in data..**\n",
    "\n",
    "- AR: Auto-Regressive (p): AR terms are just lags of dependent variable. For example lets say p is 3, we will use x(t-1), x(t-2) and x(t-3) to predict x(t)\n",
    "- I: Integrated (d): These are the number of nonseasonal differences. For example, in our case we take the first order difference. So we pass that variable and put d=0\n",
    "- MA: Moving Averages (q): MA terms are lagged forecast errors in prediction equation."
   ]
  },
  {
   "cell_type": "code",
   "execution_count": 26,
   "metadata": {
    "_uuid": "1bd14b751a3f2ee61692bfc3a4fffe5cc589a796",
    "hidden": true
   },
   "outputs": [
    {
     "name": "stdout",
     "output_type": "stream",
     "text": [
      "Examples of parameter combinations for Seasonal ARIMA...\n",
      "SARIMAX: (0, 0, 1) x (0, 0, 1, 12)\n",
      "SARIMAX: (0, 0, 1) x (0, 0, 2, 12)\n",
      "SARIMAX: (0, 0, 2) x (0, 1, 0, 12)\n",
      "SARIMAX: (0, 0, 2) x (0, 1, 1, 12)\n"
     ]
    }
   ],
   "source": [
    "import itertools\n",
    "p = d = q = range(0, 3)\n",
    "pdq = list(itertools.product(p, d, q))\n",
    "seasonal_pdq = [(x[0], x[1], x[2], 12) for x in list(itertools.product(p, d, q))]\n",
    "print('Examples of parameter combinations for Seasonal ARIMA...')\n",
    "print('SARIMAX: {} x {}'.format(pdq[1], seasonal_pdq[1]))\n",
    "print('SARIMAX: {} x {}'.format(pdq[1], seasonal_pdq[2]))\n",
    "print('SARIMAX: {} x {}'.format(pdq[2], seasonal_pdq[3]))\n",
    "print('SARIMAX: {} x {}'.format(pdq[2], seasonal_pdq[4]))"
   ]
  },
  {
   "cell_type": "markdown",
   "metadata": {
    "_uuid": "301a9e1680c47a0c81b238438fe4814e64ebcc3d",
    "hidden": true
   },
   "source": [
    "**From the above we cn see that the lags till 50 are having weightage wrt the ACF Plots, but according to the PACF plots they valley out after the 10th lag...**"
   ]
  },
  {
   "cell_type": "code",
   "execution_count": null,
   "metadata": {
    "_uuid": "a1eba2dfba082a837ca21be69ff19ee0365d8395",
    "hidden": true,
    "scrolled": false
   },
   "outputs": [
    {
     "name": "stderr",
     "output_type": "stream",
     "text": [
      "/anaconda3/lib/python3.7/site-packages/statsmodels/tsa/base/tsa_model.py:225: ValueWarning:\n",
      "\n",
      "A date index has been provided, but it has no associated frequency information and so will be ignored when e.g. forecasting.\n",
      "\n",
      "/anaconda3/lib/python3.7/site-packages/statsmodels/tsa/statespace/representation.py:375: FutureWarning:\n",
      "\n",
      "Using a non-tuple sequence for multidimensional indexing is deprecated; use `arr[tuple(seq)]` instead of `arr[seq]`. In the future this will be interpreted as an array index, `arr[np.array(seq)]`, which will result either in an error or a different result.\n",
      "\n",
      "/anaconda3/lib/python3.7/site-packages/statsmodels/tsa/base/tsa_model.py:225: ValueWarning:\n",
      "\n",
      "A date index has been provided, but it has no associated frequency information and so will be ignored when e.g. forecasting.\n",
      "\n"
     ]
    },
    {
     "name": "stdout",
     "output_type": "stream",
     "text": [
      "Current Iter - 1, ARIMA(0, 0, 0)x(0, 0, 0, 12) 12 - AIC:261886.91370253958\n",
      "Current Iter - 2, ARIMA(0, 0, 0)x(0, 0, 1, 12) 12 - AIC:232712.18031385765\n"
     ]
    },
    {
     "name": "stderr",
     "output_type": "stream",
     "text": [
      "/anaconda3/lib/python3.7/site-packages/statsmodels/tsa/base/tsa_model.py:225: ValueWarning:\n",
      "\n",
      "A date index has been provided, but it has no associated frequency information and so will be ignored when e.g. forecasting.\n",
      "\n"
     ]
    },
    {
     "name": "stdout",
     "output_type": "stream",
     "text": [
      "Current Iter - 3, ARIMA(0, 0, 0)x(0, 0, 2, 12) 12 - AIC:198509.38775760066\n"
     ]
    },
    {
     "name": "stderr",
     "output_type": "stream",
     "text": [
      "/anaconda3/lib/python3.7/site-packages/statsmodels/tsa/base/tsa_model.py:225: ValueWarning:\n",
      "\n",
      "A date index has been provided, but it has no associated frequency information and so will be ignored when e.g. forecasting.\n",
      "\n"
     ]
    },
    {
     "name": "stdout",
     "output_type": "stream",
     "text": [
      "Current Iter - 4, ARIMA(0, 0, 0)x(0, 1, 0, 12) 12 - AIC:118037.2027234001\n"
     ]
    },
    {
     "name": "stderr",
     "output_type": "stream",
     "text": [
      "/anaconda3/lib/python3.7/site-packages/statsmodels/tsa/base/tsa_model.py:225: ValueWarning:\n",
      "\n",
      "A date index has been provided, but it has no associated frequency information and so will be ignored when e.g. forecasting.\n",
      "\n"
     ]
    },
    {
     "name": "stdout",
     "output_type": "stream",
     "text": [
      "Current Iter - 5, ARIMA(0, 0, 0)x(0, 1, 1, 12) 12 - AIC:94766.78766931304\n"
     ]
    },
    {
     "name": "stderr",
     "output_type": "stream",
     "text": [
      "/anaconda3/lib/python3.7/site-packages/statsmodels/tsa/base/tsa_model.py:225: ValueWarning:\n",
      "\n",
      "A date index has been provided, but it has no associated frequency information and so will be ignored when e.g. forecasting.\n",
      "\n"
     ]
    },
    {
     "name": "stdout",
     "output_type": "stream",
     "text": [
      "Current Iter - 6, ARIMA(0, 0, 0)x(0, 1, 2, 12) 12 - AIC:89360.46800501246\n"
     ]
    },
    {
     "name": "stderr",
     "output_type": "stream",
     "text": [
      "/anaconda3/lib/python3.7/site-packages/statsmodels/tsa/base/tsa_model.py:225: ValueWarning:\n",
      "\n",
      "A date index has been provided, but it has no associated frequency information and so will be ignored when e.g. forecasting.\n",
      "\n"
     ]
    },
    {
     "name": "stdout",
     "output_type": "stream",
     "text": [
      "Current Iter - 7, ARIMA(0, 0, 0)x(0, 2, 0, 12) 12 - AIC:153292.81213001843\n"
     ]
    },
    {
     "name": "stderr",
     "output_type": "stream",
     "text": [
      "/anaconda3/lib/python3.7/site-packages/statsmodels/tsa/base/tsa_model.py:225: ValueWarning:\n",
      "\n",
      "A date index has been provided, but it has no associated frequency information and so will be ignored when e.g. forecasting.\n",
      "\n"
     ]
    },
    {
     "name": "stdout",
     "output_type": "stream",
     "text": [
      "Current Iter - 8, ARIMA(0, 0, 0)x(0, 2, 1, 12) 12 - AIC:118034.21689831367\n"
     ]
    },
    {
     "name": "stderr",
     "output_type": "stream",
     "text": [
      "/anaconda3/lib/python3.7/site-packages/statsmodels/tsa/base/tsa_model.py:225: ValueWarning:\n",
      "\n",
      "A date index has been provided, but it has no associated frequency information and so will be ignored when e.g. forecasting.\n",
      "\n"
     ]
    },
    {
     "name": "stdout",
     "output_type": "stream",
     "text": [
      "Current Iter - 9, ARIMA(0, 0, 0)x(0, 2, 2, 12) 12 - AIC:94828.22601155745\n"
     ]
    },
    {
     "name": "stderr",
     "output_type": "stream",
     "text": [
      "/anaconda3/lib/python3.7/site-packages/statsmodels/tsa/base/tsa_model.py:225: ValueWarning:\n",
      "\n",
      "A date index has been provided, but it has no associated frequency information and so will be ignored when e.g. forecasting.\n",
      "\n"
     ]
    },
    {
     "name": "stdout",
     "output_type": "stream",
     "text": [
      "Current Iter - 10, ARIMA(0, 0, 0)x(1, 0, 0, 12) 12 - AIC:118015.11542980316\n"
     ]
    },
    {
     "name": "stderr",
     "output_type": "stream",
     "text": [
      "/anaconda3/lib/python3.7/site-packages/statsmodels/tsa/base/tsa_model.py:225: ValueWarning:\n",
      "\n",
      "A date index has been provided, but it has no associated frequency information and so will be ignored when e.g. forecasting.\n",
      "\n"
     ]
    },
    {
     "name": "stdout",
     "output_type": "stream",
     "text": [
      "Current Iter - 11, ARIMA(0, 0, 0)x(1, 0, 1, 12) 12 - AIC:94817.31000116075\n"
     ]
    },
    {
     "name": "stderr",
     "output_type": "stream",
     "text": [
      "/anaconda3/lib/python3.7/site-packages/statsmodels/tsa/base/tsa_model.py:225: ValueWarning:\n",
      "\n",
      "A date index has been provided, but it has no associated frequency information and so will be ignored when e.g. forecasting.\n",
      "\n",
      "/anaconda3/lib/python3.7/site-packages/statsmodels/base/model.py:508: ConvergenceWarning:\n",
      "\n",
      "Maximum Likelihood optimization failed to converge. Check mle_retvals\n",
      "\n"
     ]
    },
    {
     "name": "stdout",
     "output_type": "stream",
     "text": [
      "Current Iter - 12, ARIMA(0, 0, 0)x(1, 0, 2, 12) 12 - AIC:95616.12234934219\n"
     ]
    },
    {
     "name": "stderr",
     "output_type": "stream",
     "text": [
      "/anaconda3/lib/python3.7/site-packages/statsmodels/tsa/base/tsa_model.py:225: ValueWarning:\n",
      "\n",
      "A date index has been provided, but it has no associated frequency information and so will be ignored when e.g. forecasting.\n",
      "\n"
     ]
    },
    {
     "name": "stdout",
     "output_type": "stream",
     "text": [
      "Current Iter - 13, ARIMA(0, 0, 0)x(1, 1, 0, 12) 12 - AIC:69969.45398783227\n"
     ]
    },
    {
     "name": "stderr",
     "output_type": "stream",
     "text": [
      "/anaconda3/lib/python3.7/site-packages/statsmodels/tsa/base/tsa_model.py:225: ValueWarning:\n",
      "\n",
      "A date index has been provided, but it has no associated frequency information and so will be ignored when e.g. forecasting.\n",
      "\n"
     ]
    },
    {
     "name": "stdout",
     "output_type": "stream",
     "text": [
      "Current Iter - 14, ARIMA(0, 0, 0)x(1, 1, 1, 12) 12 - AIC:63301.46188835096\n"
     ]
    },
    {
     "name": "stderr",
     "output_type": "stream",
     "text": [
      "/anaconda3/lib/python3.7/site-packages/statsmodels/tsa/base/tsa_model.py:225: ValueWarning:\n",
      "\n",
      "A date index has been provided, but it has no associated frequency information and so will be ignored when e.g. forecasting.\n",
      "\n"
     ]
    },
    {
     "name": "stdout",
     "output_type": "stream",
     "text": [
      "Current Iter - 15, ARIMA(0, 0, 0)x(1, 1, 2, 12) 12 - AIC:61680.21824739935\n"
     ]
    },
    {
     "name": "stderr",
     "output_type": "stream",
     "text": [
      "/anaconda3/lib/python3.7/site-packages/statsmodels/tsa/base/tsa_model.py:225: ValueWarning:\n",
      "\n",
      "A date index has been provided, but it has no associated frequency information and so will be ignored when e.g. forecasting.\n",
      "\n"
     ]
    },
    {
     "name": "stdout",
     "output_type": "stream",
     "text": [
      "Current Iter - 16, ARIMA(0, 0, 0)x(1, 2, 0, 12) 12 - AIC:74459.20765664702\n"
     ]
    },
    {
     "name": "stderr",
     "output_type": "stream",
     "text": [
      "/anaconda3/lib/python3.7/site-packages/statsmodels/tsa/base/tsa_model.py:225: ValueWarning:\n",
      "\n",
      "A date index has been provided, but it has no associated frequency information and so will be ignored when e.g. forecasting.\n",
      "\n"
     ]
    },
    {
     "name": "stdout",
     "output_type": "stream",
     "text": [
      "Current Iter - 17, ARIMA(0, 0, 0)x(1, 2, 1, 12) 12 - AIC:73321.16798285113\n"
     ]
    },
    {
     "name": "stderr",
     "output_type": "stream",
     "text": [
      "/anaconda3/lib/python3.7/site-packages/statsmodels/tsa/base/tsa_model.py:225: ValueWarning:\n",
      "\n",
      "A date index has been provided, but it has no associated frequency information and so will be ignored when e.g. forecasting.\n",
      "\n"
     ]
    },
    {
     "name": "stdout",
     "output_type": "stream",
     "text": [
      "Current Iter - 18, ARIMA(0, 0, 0)x(1, 2, 2, 12) 12 - AIC:63319.686975600394\n"
     ]
    },
    {
     "name": "stderr",
     "output_type": "stream",
     "text": [
      "/anaconda3/lib/python3.7/site-packages/statsmodels/tsa/base/tsa_model.py:225: ValueWarning:\n",
      "\n",
      "A date index has been provided, but it has no associated frequency information and so will be ignored when e.g. forecasting.\n",
      "\n"
     ]
    },
    {
     "name": "stdout",
     "output_type": "stream",
     "text": [
      "Current Iter - 19, ARIMA(0, 0, 0)x(2, 0, 0, 12) 12 - AIC:69969.95362078462\n"
     ]
    },
    {
     "name": "stderr",
     "output_type": "stream",
     "text": [
      "/anaconda3/lib/python3.7/site-packages/statsmodels/tsa/base/tsa_model.py:225: ValueWarning:\n",
      "\n",
      "A date index has been provided, but it has no associated frequency information and so will be ignored when e.g. forecasting.\n",
      "\n"
     ]
    },
    {
     "name": "stdout",
     "output_type": "stream",
     "text": [
      "Current Iter - 20, ARIMA(0, 0, 0)x(2, 0, 1, 12) 12 - AIC:63302.5397471097\n"
     ]
    },
    {
     "name": "stderr",
     "output_type": "stream",
     "text": [
      "/anaconda3/lib/python3.7/site-packages/statsmodels/tsa/base/tsa_model.py:225: ValueWarning:\n",
      "\n",
      "A date index has been provided, but it has no associated frequency information and so will be ignored when e.g. forecasting.\n",
      "\n"
     ]
    },
    {
     "name": "stdout",
     "output_type": "stream",
     "text": [
      "Current Iter - 21, ARIMA(0, 0, 0)x(2, 0, 2, 12) 12 - AIC:61758.153332541006\n"
     ]
    },
    {
     "name": "stderr",
     "output_type": "stream",
     "text": [
      "/anaconda3/lib/python3.7/site-packages/statsmodels/tsa/base/tsa_model.py:225: ValueWarning:\n",
      "\n",
      "A date index has been provided, but it has no associated frequency information and so will be ignored when e.g. forecasting.\n",
      "\n"
     ]
    },
    {
     "name": "stdout",
     "output_type": "stream",
     "text": [
      "Current Iter - 22, ARIMA(0, 0, 0)x(2, 1, 0, 12) 12 - AIC:65371.61648998899\n"
     ]
    },
    {
     "name": "stderr",
     "output_type": "stream",
     "text": [
      "/anaconda3/lib/python3.7/site-packages/statsmodels/tsa/base/tsa_model.py:225: ValueWarning:\n",
      "\n",
      "A date index has been provided, but it has no associated frequency information and so will be ignored when e.g. forecasting.\n",
      "\n"
     ]
    },
    {
     "name": "stdout",
     "output_type": "stream",
     "text": [
      "Current Iter - 23, ARIMA(0, 0, 0)x(2, 1, 1, 12) 12 - AIC:61286.143272682995\n"
     ]
    },
    {
     "name": "stderr",
     "output_type": "stream",
     "text": [
      "/anaconda3/lib/python3.7/site-packages/statsmodels/tsa/base/tsa_model.py:225: ValueWarning:\n",
      "\n",
      "A date index has been provided, but it has no associated frequency information and so will be ignored when e.g. forecasting.\n",
      "\n"
     ]
    },
    {
     "name": "stdout",
     "output_type": "stream",
     "text": [
      "Current Iter - 24, ARIMA(0, 0, 0)x(2, 1, 2, 12) 12 - AIC:61799.13774169059\n"
     ]
    },
    {
     "name": "stderr",
     "output_type": "stream",
     "text": [
      "/anaconda3/lib/python3.7/site-packages/statsmodels/tsa/base/tsa_model.py:225: ValueWarning:\n",
      "\n",
      "A date index has been provided, but it has no associated frequency information and so will be ignored when e.g. forecasting.\n",
      "\n"
     ]
    },
    {
     "name": "stdout",
     "output_type": "stream",
     "text": [
      "Current Iter - 25, ARIMA(0, 0, 0)x(2, 2, 0, 12) 12 - AIC:74013.99663948934\n"
     ]
    },
    {
     "name": "stderr",
     "output_type": "stream",
     "text": [
      "/anaconda3/lib/python3.7/site-packages/statsmodels/tsa/base/tsa_model.py:225: ValueWarning:\n",
      "\n",
      "A date index has been provided, but it has no associated frequency information and so will be ignored when e.g. forecasting.\n",
      "\n"
     ]
    },
    {
     "name": "stdout",
     "output_type": "stream",
     "text": [
      "Current Iter - 26, ARIMA(0, 0, 0)x(2, 2, 1, 12) 12 - AIC:71667.94051827904\n"
     ]
    },
    {
     "name": "stderr",
     "output_type": "stream",
     "text": [
      "/anaconda3/lib/python3.7/site-packages/statsmodels/tsa/base/tsa_model.py:225: ValueWarning:\n",
      "\n",
      "A date index has been provided, but it has no associated frequency information and so will be ignored when e.g. forecasting.\n",
      "\n",
      "/anaconda3/lib/python3.7/site-packages/statsmodels/base/model.py:508: ConvergenceWarning:\n",
      "\n",
      "Maximum Likelihood optimization failed to converge. Check mle_retvals\n",
      "\n"
     ]
    },
    {
     "name": "stdout",
     "output_type": "stream",
     "text": [
      "Current Iter - 27, ARIMA(0, 0, 0)x(2, 2, 2, 12) 12 - AIC:61345.66705185281\n"
     ]
    },
    {
     "name": "stderr",
     "output_type": "stream",
     "text": [
      "/anaconda3/lib/python3.7/site-packages/statsmodels/tsa/base/tsa_model.py:225: ValueWarning:\n",
      "\n",
      "A date index has been provided, but it has no associated frequency information and so will be ignored when e.g. forecasting.\n",
      "\n"
     ]
    },
    {
     "name": "stdout",
     "output_type": "stream",
     "text": [
      "Current Iter - 28, ARIMA(0, 0, 1)x(0, 0, 0, 12) 12 - AIC:225569.3958534964\n"
     ]
    },
    {
     "name": "stderr",
     "output_type": "stream",
     "text": [
      "/anaconda3/lib/python3.7/site-packages/statsmodels/tsa/base/tsa_model.py:225: ValueWarning:\n",
      "\n",
      "A date index has been provided, but it has no associated frequency information and so will be ignored when e.g. forecasting.\n",
      "\n"
     ]
    },
    {
     "name": "stdout",
     "output_type": "stream",
     "text": [
      "Current Iter - 29, ARIMA(0, 0, 1)x(0, 0, 1, 12) 12 - AIC:196464.34710073558\n"
     ]
    },
    {
     "name": "stderr",
     "output_type": "stream",
     "text": [
      "/anaconda3/lib/python3.7/site-packages/statsmodels/tsa/base/tsa_model.py:225: ValueWarning:\n",
      "\n",
      "A date index has been provided, but it has no associated frequency information and so will be ignored when e.g. forecasting.\n",
      "\n"
     ]
    },
    {
     "name": "stdout",
     "output_type": "stream",
     "text": [
      "Current Iter - 30, ARIMA(0, 0, 1)x(0, 0, 2, 12) 12 - AIC:181860.60035441976\n"
     ]
    },
    {
     "name": "stderr",
     "output_type": "stream",
     "text": [
      "/anaconda3/lib/python3.7/site-packages/statsmodels/tsa/base/tsa_model.py:225: ValueWarning:\n",
      "\n",
      "A date index has been provided, but it has no associated frequency information and so will be ignored when e.g. forecasting.\n",
      "\n"
     ]
    },
    {
     "name": "stdout",
     "output_type": "stream",
     "text": [
      "Current Iter - 31, ARIMA(0, 0, 1)x(0, 1, 0, 12) 12 - AIC:82395.25988542645\n"
     ]
    },
    {
     "name": "stderr",
     "output_type": "stream",
     "text": [
      "/anaconda3/lib/python3.7/site-packages/statsmodels/tsa/base/tsa_model.py:225: ValueWarning:\n",
      "\n",
      "A date index has been provided, but it has no associated frequency information and so will be ignored when e.g. forecasting.\n",
      "\n"
     ]
    },
    {
     "name": "stdout",
     "output_type": "stream",
     "text": [
      "Current Iter - 32, ARIMA(0, 0, 1)x(0, 1, 1, 12) 12 - AIC:60060.95200492701\n"
     ]
    },
    {
     "name": "stderr",
     "output_type": "stream",
     "text": [
      "/anaconda3/lib/python3.7/site-packages/statsmodels/tsa/base/tsa_model.py:225: ValueWarning:\n",
      "\n",
      "A date index has been provided, but it has no associated frequency information and so will be ignored when e.g. forecasting.\n",
      "\n"
     ]
    },
    {
     "name": "stdout",
     "output_type": "stream",
     "text": [
      "Current Iter - 33, ARIMA(0, 0, 1)x(0, 1, 2, 12) 12 - AIC:54242.18688564573\n"
     ]
    },
    {
     "name": "stderr",
     "output_type": "stream",
     "text": [
      "/anaconda3/lib/python3.7/site-packages/statsmodels/tsa/base/tsa_model.py:225: ValueWarning:\n",
      "\n",
      "A date index has been provided, but it has no associated frequency information and so will be ignored when e.g. forecasting.\n",
      "\n"
     ]
    },
    {
     "name": "stdout",
     "output_type": "stream",
     "text": [
      "Current Iter - 34, ARIMA(0, 0, 1)x(0, 2, 0, 12) 12 - AIC:117584.9480152908\n"
     ]
    },
    {
     "name": "stderr",
     "output_type": "stream",
     "text": [
      "/anaconda3/lib/python3.7/site-packages/statsmodels/tsa/base/tsa_model.py:225: ValueWarning:\n",
      "\n",
      "A date index has been provided, but it has no associated frequency information and so will be ignored when e.g. forecasting.\n",
      "\n"
     ]
    },
    {
     "name": "stdout",
     "output_type": "stream",
     "text": [
      "Current Iter - 35, ARIMA(0, 0, 1)x(0, 2, 1, 12) 12 - AIC:82434.84651685444\n"
     ]
    },
    {
     "name": "stderr",
     "output_type": "stream",
     "text": [
      "/anaconda3/lib/python3.7/site-packages/statsmodels/tsa/base/tsa_model.py:225: ValueWarning:\n",
      "\n",
      "A date index has been provided, but it has no associated frequency information and so will be ignored when e.g. forecasting.\n",
      "\n"
     ]
    },
    {
     "name": "stdout",
     "output_type": "stream",
     "text": [
      "Current Iter - 36, ARIMA(0, 0, 1)x(0, 2, 2, 12) 12 - AIC:60152.47439526043\n"
     ]
    },
    {
     "name": "stderr",
     "output_type": "stream",
     "text": [
      "/anaconda3/lib/python3.7/site-packages/statsmodels/tsa/base/tsa_model.py:225: ValueWarning:\n",
      "\n",
      "A date index has been provided, but it has no associated frequency information and so will be ignored when e.g. forecasting.\n",
      "\n"
     ]
    },
    {
     "name": "stdout",
     "output_type": "stream",
     "text": [
      "Current Iter - 37, ARIMA(0, 0, 1)x(1, 0, 0, 12) 12 - AIC:82378.52768012432\n"
     ]
    },
    {
     "name": "stderr",
     "output_type": "stream",
     "text": [
      "/anaconda3/lib/python3.7/site-packages/statsmodels/tsa/base/tsa_model.py:225: ValueWarning:\n",
      "\n",
      "A date index has been provided, but it has no associated frequency information and so will be ignored when e.g. forecasting.\n",
      "\n"
     ]
    },
    {
     "name": "stdout",
     "output_type": "stream",
     "text": [
      "Current Iter - 38, ARIMA(0, 0, 1)x(1, 0, 1, 12) 12 - AIC:60097.53645059862\n"
     ]
    },
    {
     "name": "stderr",
     "output_type": "stream",
     "text": [
      "/anaconda3/lib/python3.7/site-packages/statsmodels/tsa/base/tsa_model.py:225: ValueWarning:\n",
      "\n",
      "A date index has been provided, but it has no associated frequency information and so will be ignored when e.g. forecasting.\n",
      "\n"
     ]
    },
    {
     "name": "stdout",
     "output_type": "stream",
     "text": [
      "Current Iter - 39, ARIMA(0, 0, 1)x(1, 0, 2, 12) 12 - AIC:54264.35010166623\n"
     ]
    },
    {
     "name": "stderr",
     "output_type": "stream",
     "text": [
      "/anaconda3/lib/python3.7/site-packages/statsmodels/tsa/base/tsa_model.py:225: ValueWarning:\n",
      "\n",
      "A date index has been provided, but it has no associated frequency information and so will be ignored when e.g. forecasting.\n",
      "\n",
      "/anaconda3/lib/python3.7/site-packages/statsmodels/base/model.py:508: ConvergenceWarning:\n",
      "\n",
      "Maximum Likelihood optimization failed to converge. Check mle_retvals\n",
      "\n"
     ]
    },
    {
     "name": "stdout",
     "output_type": "stream",
     "text": [
      "Current Iter - 40, ARIMA(0, 0, 1)x(1, 1, 0, 12) 12 - AIC:70300.05991369278\n"
     ]
    },
    {
     "name": "stderr",
     "output_type": "stream",
     "text": [
      "/anaconda3/lib/python3.7/site-packages/statsmodels/tsa/base/tsa_model.py:225: ValueWarning:\n",
      "\n",
      "A date index has been provided, but it has no associated frequency information and so will be ignored when e.g. forecasting.\n",
      "\n"
     ]
    },
    {
     "name": "stdout",
     "output_type": "stream",
     "text": [
      "Current Iter - 41, ARIMA(0, 0, 1)x(1, 1, 1, 12) 12 - AIC:28713.066984698602\n"
     ]
    },
    {
     "name": "stderr",
     "output_type": "stream",
     "text": [
      "/anaconda3/lib/python3.7/site-packages/statsmodels/tsa/base/tsa_model.py:225: ValueWarning:\n",
      "\n",
      "A date index has been provided, but it has no associated frequency information and so will be ignored when e.g. forecasting.\n",
      "\n",
      "/anaconda3/lib/python3.7/site-packages/statsmodels/base/model.py:508: ConvergenceWarning:\n",
      "\n",
      "Maximum Likelihood optimization failed to converge. Check mle_retvals\n",
      "\n"
     ]
    },
    {
     "name": "stdout",
     "output_type": "stream",
     "text": [
      "Current Iter - 42, ARIMA(0, 0, 1)x(1, 1, 2, 12) 12 - AIC:27251.381505773214\n"
     ]
    },
    {
     "name": "stderr",
     "output_type": "stream",
     "text": [
      "/anaconda3/lib/python3.7/site-packages/statsmodels/tsa/base/tsa_model.py:225: ValueWarning:\n",
      "\n",
      "A date index has been provided, but it has no associated frequency information and so will be ignored when e.g. forecasting.\n",
      "\n"
     ]
    },
    {
     "name": "stdout",
     "output_type": "stream",
     "text": [
      "Current Iter - 43, ARIMA(0, 0, 1)x(1, 2, 0, 12) 12 - AIC:39734.104300440835\n"
     ]
    },
    {
     "name": "stderr",
     "output_type": "stream",
     "text": [
      "/anaconda3/lib/python3.7/site-packages/statsmodels/tsa/base/tsa_model.py:225: ValueWarning:\n",
      "\n",
      "A date index has been provided, but it has no associated frequency information and so will be ignored when e.g. forecasting.\n",
      "\n"
     ]
    },
    {
     "name": "stdout",
     "output_type": "stream",
     "text": [
      "Current Iter - 44, ARIMA(0, 0, 1)x(1, 2, 1, 12) 12 - AIC:38590.556202988955\n"
     ]
    },
    {
     "name": "stderr",
     "output_type": "stream",
     "text": [
      "/anaconda3/lib/python3.7/site-packages/statsmodels/tsa/base/tsa_model.py:225: ValueWarning:\n",
      "\n",
      "A date index has been provided, but it has no associated frequency information and so will be ignored when e.g. forecasting.\n",
      "\n"
     ]
    },
    {
     "name": "stdout",
     "output_type": "stream",
     "text": [
      "Current Iter - 45, ARIMA(0, 0, 1)x(1, 2, 2, 12) 12 - AIC:28763.31759730932\n"
     ]
    },
    {
     "name": "stderr",
     "output_type": "stream",
     "text": [
      "/anaconda3/lib/python3.7/site-packages/statsmodels/tsa/base/tsa_model.py:225: ValueWarning:\n",
      "\n",
      "A date index has been provided, but it has no associated frequency information and so will be ignored when e.g. forecasting.\n",
      "\n",
      "/anaconda3/lib/python3.7/site-packages/statsmodels/base/model.py:508: ConvergenceWarning:\n",
      "\n",
      "Maximum Likelihood optimization failed to converge. Check mle_retvals\n",
      "\n"
     ]
    },
    {
     "name": "stdout",
     "output_type": "stream",
     "text": [
      "Current Iter - 46, ARIMA(0, 0, 1)x(2, 0, 0, 12) 12 - AIC:70431.03828593319\n"
     ]
    },
    {
     "name": "stderr",
     "output_type": "stream",
     "text": [
      "/anaconda3/lib/python3.7/site-packages/statsmodels/tsa/base/tsa_model.py:225: ValueWarning:\n",
      "\n",
      "A date index has been provided, but it has no associated frequency information and so will be ignored when e.g. forecasting.\n",
      "\n"
     ]
    },
    {
     "name": "stdout",
     "output_type": "stream",
     "text": [
      "Current Iter - 47, ARIMA(0, 0, 1)x(2, 0, 1, 12) 12 - AIC:28714.834189131292\n"
     ]
    },
    {
     "name": "stderr",
     "output_type": "stream",
     "text": [
      "/anaconda3/lib/python3.7/site-packages/statsmodels/tsa/base/tsa_model.py:225: ValueWarning:\n",
      "\n",
      "A date index has been provided, but it has no associated frequency information and so will be ignored when e.g. forecasting.\n",
      "\n",
      "/anaconda3/lib/python3.7/site-packages/statsmodels/base/model.py:508: ConvergenceWarning:\n",
      "\n",
      "Maximum Likelihood optimization failed to converge. Check mle_retvals\n",
      "\n"
     ]
    },
    {
     "name": "stdout",
     "output_type": "stream",
     "text": [
      "Current Iter - 48, ARIMA(0, 0, 1)x(2, 0, 2, 12) 12 - AIC:27319.54531563301\n"
     ]
    },
    {
     "name": "stderr",
     "output_type": "stream",
     "text": [
      "/anaconda3/lib/python3.7/site-packages/statsmodels/tsa/base/tsa_model.py:225: ValueWarning:\n",
      "\n",
      "A date index has been provided, but it has no associated frequency information and so will be ignored when e.g. forecasting.\n",
      "\n",
      "/anaconda3/lib/python3.7/site-packages/statsmodels/base/model.py:508: ConvergenceWarning:\n",
      "\n",
      "Maximum Likelihood optimization failed to converge. Check mle_retvals\n",
      "\n"
     ]
    },
    {
     "name": "stdout",
     "output_type": "stream",
     "text": [
      "Current Iter - 49, ARIMA(0, 0, 1)x(2, 1, 0, 12) 12 - AIC:65709.08056255734\n"
     ]
    },
    {
     "name": "stderr",
     "output_type": "stream",
     "text": [
      "/anaconda3/lib/python3.7/site-packages/statsmodels/tsa/base/tsa_model.py:225: ValueWarning:\n",
      "\n",
      "A date index has been provided, but it has no associated frequency information and so will be ignored when e.g. forecasting.\n",
      "\n",
      "/anaconda3/lib/python3.7/site-packages/statsmodels/tsa/base/tsa_model.py:225: ValueWarning:\n",
      "\n",
      "A date index has been provided, but it has no associated frequency information and so will be ignored when e.g. forecasting.\n",
      "\n",
      "/anaconda3/lib/python3.7/site-packages/statsmodels/base/model.py:508: ConvergenceWarning:\n",
      "\n",
      "Maximum Likelihood optimization failed to converge. Check mle_retvals\n",
      "\n"
     ]
    },
    {
     "name": "stdout",
     "output_type": "stream",
     "text": [
      "Current Iter - 51, ARIMA(0, 0, 1)x(2, 1, 2, 12) 12 - AIC:25985.597130475733\n"
     ]
    },
    {
     "name": "stderr",
     "output_type": "stream",
     "text": [
      "/anaconda3/lib/python3.7/site-packages/statsmodels/tsa/base/tsa_model.py:225: ValueWarning:\n",
      "\n",
      "A date index has been provided, but it has no associated frequency information and so will be ignored when e.g. forecasting.\n",
      "\n"
     ]
    },
    {
     "name": "stdout",
     "output_type": "stream",
     "text": [
      "Current Iter - 52, ARIMA(0, 0, 1)x(2, 2, 0, 12) 12 - AIC:39318.77558751753\n"
     ]
    },
    {
     "name": "stderr",
     "output_type": "stream",
     "text": [
      "/anaconda3/lib/python3.7/site-packages/statsmodels/tsa/base/tsa_model.py:225: ValueWarning:\n",
      "\n",
      "A date index has been provided, but it has no associated frequency information and so will be ignored when e.g. forecasting.\n",
      "\n"
     ]
    },
    {
     "name": "stdout",
     "output_type": "stream",
     "text": [
      "Current Iter - 53, ARIMA(0, 0, 1)x(2, 2, 1, 12) 12 - AIC:31004.923765752817\n"
     ]
    },
    {
     "name": "stderr",
     "output_type": "stream",
     "text": [
      "/anaconda3/lib/python3.7/site-packages/statsmodels/tsa/base/tsa_model.py:225: ValueWarning:\n",
      "\n",
      "A date index has been provided, but it has no associated frequency information and so will be ignored when e.g. forecasting.\n",
      "\n"
     ]
    },
    {
     "name": "stdout",
     "output_type": "stream",
     "text": [
      "Current Iter - 54, ARIMA(0, 0, 1)x(2, 2, 2, 12) 12 - AIC:26979.47012922412\n"
     ]
    },
    {
     "name": "stderr",
     "output_type": "stream",
     "text": [
      "/anaconda3/lib/python3.7/site-packages/statsmodels/tsa/base/tsa_model.py:225: ValueWarning:\n",
      "\n",
      "A date index has been provided, but it has no associated frequency information and so will be ignored when e.g. forecasting.\n",
      "\n"
     ]
    },
    {
     "name": "stdout",
     "output_type": "stream",
     "text": [
      "Current Iter - 55, ARIMA(0, 0, 2)x(0, 0, 0, 12) 12 - AIC:189913.07115387658\n"
     ]
    },
    {
     "name": "stderr",
     "output_type": "stream",
     "text": [
      "/anaconda3/lib/python3.7/site-packages/statsmodels/tsa/base/tsa_model.py:225: ValueWarning:\n",
      "\n",
      "A date index has been provided, but it has no associated frequency information and so will be ignored when e.g. forecasting.\n",
      "\n"
     ]
    },
    {
     "name": "stdout",
     "output_type": "stream",
     "text": [
      "Current Iter - 56, ARIMA(0, 0, 2)x(0, 0, 1, 12) 12 - AIC:162005.55750818312\n"
     ]
    },
    {
     "name": "stderr",
     "output_type": "stream",
     "text": [
      "/anaconda3/lib/python3.7/site-packages/statsmodels/tsa/base/tsa_model.py:225: ValueWarning:\n",
      "\n",
      "A date index has been provided, but it has no associated frequency information and so will be ignored when e.g. forecasting.\n",
      "\n",
      "/anaconda3/lib/python3.7/site-packages/statsmodels/base/model.py:508: ConvergenceWarning:\n",
      "\n",
      "Maximum Likelihood optimization failed to converge. Check mle_retvals\n",
      "\n"
     ]
    },
    {
     "name": "stdout",
     "output_type": "stream",
     "text": [
      "Current Iter - 57, ARIMA(0, 0, 2)x(0, 0, 2, 12) 12 - AIC:129400.55408959773\n"
     ]
    },
    {
     "name": "stderr",
     "output_type": "stream",
     "text": [
      "/anaconda3/lib/python3.7/site-packages/statsmodels/tsa/base/tsa_model.py:225: ValueWarning:\n",
      "\n",
      "A date index has been provided, but it has no associated frequency information and so will be ignored when e.g. forecasting.\n",
      "\n"
     ]
    },
    {
     "name": "stdout",
     "output_type": "stream",
     "text": [
      "Current Iter - 58, ARIMA(0, 0, 2)x(0, 1, 0, 12) 12 - AIC:51993.377361296916\n"
     ]
    },
    {
     "name": "stderr",
     "output_type": "stream",
     "text": [
      "/anaconda3/lib/python3.7/site-packages/statsmodels/tsa/base/tsa_model.py:225: ValueWarning:\n",
      "\n",
      "A date index has been provided, but it has no associated frequency information and so will be ignored when e.g. forecasting.\n",
      "\n"
     ]
    },
    {
     "name": "stdout",
     "output_type": "stream",
     "text": [
      "Current Iter - 59, ARIMA(0, 0, 2)x(0, 1, 1, 12) 12 - AIC:31106.994644583967\n"
     ]
    },
    {
     "name": "stderr",
     "output_type": "stream",
     "text": [
      "/anaconda3/lib/python3.7/site-packages/statsmodels/tsa/base/tsa_model.py:225: ValueWarning:\n",
      "\n",
      "A date index has been provided, but it has no associated frequency information and so will be ignored when e.g. forecasting.\n",
      "\n"
     ]
    },
    {
     "name": "stdout",
     "output_type": "stream",
     "text": [
      "Current Iter - 60, ARIMA(0, 0, 2)x(0, 1, 2, 12) 12 - AIC:25583.11008107189\n"
     ]
    },
    {
     "name": "stderr",
     "output_type": "stream",
     "text": [
      "/anaconda3/lib/python3.7/site-packages/statsmodels/tsa/base/tsa_model.py:225: ValueWarning:\n",
      "\n",
      "A date index has been provided, but it has no associated frequency information and so will be ignored when e.g. forecasting.\n",
      "\n"
     ]
    },
    {
     "name": "stdout",
     "output_type": "stream",
     "text": [
      "Current Iter - 61, ARIMA(0, 0, 2)x(0, 2, 0, 12) 12 - AIC:86665.01590478755\n"
     ]
    },
    {
     "name": "stderr",
     "output_type": "stream",
     "text": [
      "/anaconda3/lib/python3.7/site-packages/statsmodels/tsa/base/tsa_model.py:225: ValueWarning:\n",
      "\n",
      "A date index has been provided, but it has no associated frequency information and so will be ignored when e.g. forecasting.\n",
      "\n",
      "/anaconda3/lib/python3.7/site-packages/statsmodels/base/model.py:508: ConvergenceWarning:\n",
      "\n",
      "Maximum Likelihood optimization failed to converge. Check mle_retvals\n",
      "\n"
     ]
    },
    {
     "name": "stdout",
     "output_type": "stream",
     "text": [
      "Current Iter - 62, ARIMA(0, 0, 2)x(0, 2, 1, 12) 12 - AIC:52056.660601626165\n"
     ]
    },
    {
     "name": "stderr",
     "output_type": "stream",
     "text": [
      "/anaconda3/lib/python3.7/site-packages/statsmodels/tsa/base/tsa_model.py:225: ValueWarning:\n",
      "\n",
      "A date index has been provided, but it has no associated frequency information and so will be ignored when e.g. forecasting.\n",
      "\n"
     ]
    },
    {
     "name": "stdout",
     "output_type": "stream",
     "text": [
      "Current Iter - 63, ARIMA(0, 0, 2)x(0, 2, 2, 12) 12 - AIC:31221.934856765027\n"
     ]
    },
    {
     "name": "stderr",
     "output_type": "stream",
     "text": [
      "/anaconda3/lib/python3.7/site-packages/statsmodels/tsa/base/tsa_model.py:225: ValueWarning:\n",
      "\n",
      "A date index has been provided, but it has no associated frequency information and so will be ignored when e.g. forecasting.\n",
      "\n"
     ]
    },
    {
     "name": "stdout",
     "output_type": "stream",
     "text": [
      "Current Iter - 64, ARIMA(0, 0, 2)x(1, 0, 0, 12) 12 - AIC:51971.7892233368\n"
     ]
    },
    {
     "name": "stderr",
     "output_type": "stream",
     "text": [
      "/anaconda3/lib/python3.7/site-packages/statsmodels/tsa/base/tsa_model.py:225: ValueWarning:\n",
      "\n",
      "A date index has been provided, but it has no associated frequency information and so will be ignored when e.g. forecasting.\n",
      "\n"
     ]
    },
    {
     "name": "stdout",
     "output_type": "stream",
     "text": [
      "Current Iter - 65, ARIMA(0, 0, 2)x(1, 0, 1, 12) 12 - AIC:31132.25876834353\n"
     ]
    },
    {
     "name": "stderr",
     "output_type": "stream",
     "text": [
      "/anaconda3/lib/python3.7/site-packages/statsmodels/tsa/base/tsa_model.py:225: ValueWarning:\n",
      "\n",
      "A date index has been provided, but it has no associated frequency information and so will be ignored when e.g. forecasting.\n",
      "\n",
      "/anaconda3/lib/python3.7/site-packages/statsmodels/base/model.py:508: ConvergenceWarning:\n",
      "\n",
      "Maximum Likelihood optimization failed to converge. Check mle_retvals\n",
      "\n"
     ]
    },
    {
     "name": "stdout",
     "output_type": "stream",
     "text": [
      "Current Iter - 66, ARIMA(0, 0, 2)x(1, 0, 2, 12) 12 - AIC:47422.213978099295\n"
     ]
    },
    {
     "name": "stderr",
     "output_type": "stream",
     "text": [
      "/anaconda3/lib/python3.7/site-packages/statsmodels/tsa/base/tsa_model.py:225: ValueWarning:\n",
      "\n",
      "A date index has been provided, but it has no associated frequency information and so will be ignored when e.g. forecasting.\n",
      "\n"
     ]
    },
    {
     "name": "stdout",
     "output_type": "stream",
     "text": [
      "Current Iter - 67, ARIMA(0, 0, 2)x(1, 1, 0, 12) 12 - AIC:8303.280219899178\n"
     ]
    },
    {
     "name": "stderr",
     "output_type": "stream",
     "text": [
      "/anaconda3/lib/python3.7/site-packages/statsmodels/tsa/base/tsa_model.py:225: ValueWarning:\n",
      "\n",
      "A date index has been provided, but it has no associated frequency information and so will be ignored when e.g. forecasting.\n",
      "\n",
      "/anaconda3/lib/python3.7/site-packages/statsmodels/base/model.py:508: ConvergenceWarning:\n",
      "\n",
      "Maximum Likelihood optimization failed to converge. Check mle_retvals\n",
      "\n"
     ]
    },
    {
     "name": "stdout",
     "output_type": "stream",
     "text": [
      "Current Iter - 68, ARIMA(0, 0, 2)x(1, 1, 1, 12) 12 - AIC:8775.380178851914\n"
     ]
    },
    {
     "name": "stderr",
     "output_type": "stream",
     "text": [
      "/anaconda3/lib/python3.7/site-packages/statsmodels/tsa/base/tsa_model.py:225: ValueWarning:\n",
      "\n",
      "A date index has been provided, but it has no associated frequency information and so will be ignored when e.g. forecasting.\n",
      "\n"
     ]
    },
    {
     "name": "stdout",
     "output_type": "stream",
     "text": [
      "Current Iter - 69, ARIMA(0, 0, 2)x(1, 1, 2, 12) 12 - AIC:513.4993151968953\n"
     ]
    },
    {
     "name": "stderr",
     "output_type": "stream",
     "text": [
      "/anaconda3/lib/python3.7/site-packages/statsmodels/tsa/base/tsa_model.py:225: ValueWarning:\n",
      "\n",
      "A date index has been provided, but it has no associated frequency information and so will be ignored when e.g. forecasting.\n",
      "\n",
      "/anaconda3/lib/python3.7/site-packages/statsmodels/base/model.py:508: ConvergenceWarning:\n",
      "\n",
      "Maximum Likelihood optimization failed to converge. Check mle_retvals\n",
      "\n"
     ]
    },
    {
     "name": "stdout",
     "output_type": "stream",
     "text": [
      "Current Iter - 70, ARIMA(0, 0, 2)x(1, 2, 0, 12) 12 - AIC:40482.991782829704\n"
     ]
    },
    {
     "name": "stderr",
     "output_type": "stream",
     "text": [
      "/anaconda3/lib/python3.7/site-packages/statsmodels/tsa/base/tsa_model.py:225: ValueWarning:\n",
      "\n",
      "A date index has been provided, but it has no associated frequency information and so will be ignored when e.g. forecasting.\n",
      "\n"
     ]
    },
    {
     "name": "stdout",
     "output_type": "stream",
     "text": [
      "Current Iter - 71, ARIMA(0, 0, 2)x(1, 2, 1, 12) 12 - AIC:118714.78399218689\n"
     ]
    },
    {
     "name": "stderr",
     "output_type": "stream",
     "text": [
      "/anaconda3/lib/python3.7/site-packages/statsmodels/tsa/base/tsa_model.py:225: ValueWarning:\n",
      "\n",
      "A date index has been provided, but it has no associated frequency information and so will be ignored when e.g. forecasting.\n",
      "\n"
     ]
    },
    {
     "name": "stdout",
     "output_type": "stream",
     "text": [
      "Current Iter - 72, ARIMA(0, 0, 2)x(1, 2, 2, 12) 12 - AIC:1841.0327487895124\n"
     ]
    },
    {
     "name": "stderr",
     "output_type": "stream",
     "text": [
      "/anaconda3/lib/python3.7/site-packages/statsmodels/tsa/base/tsa_model.py:225: ValueWarning:\n",
      "\n",
      "A date index has been provided, but it has no associated frequency information and so will be ignored when e.g. forecasting.\n",
      "\n",
      "/anaconda3/lib/python3.7/site-packages/statsmodels/base/model.py:508: ConvergenceWarning:\n",
      "\n",
      "Maximum Likelihood optimization failed to converge. Check mle_retvals\n",
      "\n"
     ]
    },
    {
     "name": "stdout",
     "output_type": "stream",
     "text": [
      "Current Iter - 73, ARIMA(0, 0, 2)x(2, 0, 0, 12) 12 - AIC:16629.12107108093\n"
     ]
    },
    {
     "name": "stderr",
     "output_type": "stream",
     "text": [
      "/anaconda3/lib/python3.7/site-packages/statsmodels/tsa/base/tsa_model.py:225: ValueWarning:\n",
      "\n",
      "A date index has been provided, but it has no associated frequency information and so will be ignored when e.g. forecasting.\n",
      "\n",
      "/anaconda3/lib/python3.7/site-packages/statsmodels/base/model.py:508: ConvergenceWarning:\n",
      "\n",
      "Maximum Likelihood optimization failed to converge. Check mle_retvals\n",
      "\n"
     ]
    },
    {
     "name": "stdout",
     "output_type": "stream",
     "text": [
      "Current Iter - 74, ARIMA(0, 0, 2)x(2, 0, 1, 12) 12 - AIC:5628.9254297527605\n"
     ]
    },
    {
     "name": "stderr",
     "output_type": "stream",
     "text": [
      "/anaconda3/lib/python3.7/site-packages/statsmodels/tsa/base/tsa_model.py:225: ValueWarning:\n",
      "\n",
      "A date index has been provided, but it has no associated frequency information and so will be ignored when e.g. forecasting.\n",
      "\n",
      "/anaconda3/lib/python3.7/site-packages/statsmodels/base/model.py:508: ConvergenceWarning:\n",
      "\n",
      "Maximum Likelihood optimization failed to converge. Check mle_retvals\n",
      "\n"
     ]
    },
    {
     "name": "stdout",
     "output_type": "stream",
     "text": [
      "Current Iter - 75, ARIMA(0, 0, 2)x(2, 0, 2, 12) 12 - AIC:40582.70096226296\n"
     ]
    },
    {
     "name": "stderr",
     "output_type": "stream",
     "text": [
      "/anaconda3/lib/python3.7/site-packages/statsmodels/tsa/base/tsa_model.py:225: ValueWarning:\n",
      "\n",
      "A date index has been provided, but it has no associated frequency information and so will be ignored when e.g. forecasting.\n",
      "\n"
     ]
    },
    {
     "name": "stdout",
     "output_type": "stream",
     "text": [
      "Current Iter - 76, ARIMA(0, 0, 2)x(2, 1, 0, 12) 12 - AIC:4233.985603780374\n"
     ]
    },
    {
     "name": "stderr",
     "output_type": "stream",
     "text": [
      "/anaconda3/lib/python3.7/site-packages/statsmodels/tsa/base/tsa_model.py:225: ValueWarning:\n",
      "\n",
      "A date index has been provided, but it has no associated frequency information and so will be ignored when e.g. forecasting.\n",
      "\n"
     ]
    },
    {
     "name": "stdout",
     "output_type": "stream",
     "text": [
      "Current Iter - 77, ARIMA(0, 0, 2)x(2, 1, 1, 12) 12 - AIC:232.80151941943376\n"
     ]
    },
    {
     "name": "stderr",
     "output_type": "stream",
     "text": [
      "/anaconda3/lib/python3.7/site-packages/statsmodels/tsa/base/tsa_model.py:225: ValueWarning:\n",
      "\n",
      "A date index has been provided, but it has no associated frequency information and so will be ignored when e.g. forecasting.\n",
      "\n",
      "/anaconda3/lib/python3.7/site-packages/statsmodels/base/model.py:508: ConvergenceWarning:\n",
      "\n",
      "Maximum Likelihood optimization failed to converge. Check mle_retvals\n",
      "\n"
     ]
    },
    {
     "name": "stdout",
     "output_type": "stream",
     "text": [
      "Current Iter - 78, ARIMA(0, 0, 2)x(2, 1, 2, 12) 12 - AIC:-698.9518883398596\n"
     ]
    },
    {
     "name": "stderr",
     "output_type": "stream",
     "text": [
      "/anaconda3/lib/python3.7/site-packages/statsmodels/tsa/base/tsa_model.py:225: ValueWarning:\n",
      "\n",
      "A date index has been provided, but it has no associated frequency information and so will be ignored when e.g. forecasting.\n",
      "\n",
      "/anaconda3/lib/python3.7/site-packages/statsmodels/base/model.py:508: ConvergenceWarning:\n",
      "\n",
      "Maximum Likelihood optimization failed to converge. Check mle_retvals\n",
      "\n"
     ]
    },
    {
     "name": "stdout",
     "output_type": "stream",
     "text": [
      "Current Iter - 79, ARIMA(0, 0, 2)x(2, 2, 0, 12) 12 - AIC:40998.99604310309\n"
     ]
    },
    {
     "name": "stderr",
     "output_type": "stream",
     "text": [
      "/anaconda3/lib/python3.7/site-packages/statsmodels/tsa/base/tsa_model.py:225: ValueWarning:\n",
      "\n",
      "A date index has been provided, but it has no associated frequency information and so will be ignored when e.g. forecasting.\n",
      "\n"
     ]
    },
    {
     "name": "stdout",
     "output_type": "stream",
     "text": [
      "Current Iter - 80, ARIMA(0, 0, 2)x(2, 2, 1, 12) 12 - AIC:4344.681556018931\n"
     ]
    },
    {
     "name": "stderr",
     "output_type": "stream",
     "text": [
      "/anaconda3/lib/python3.7/site-packages/statsmodels/tsa/base/tsa_model.py:225: ValueWarning:\n",
      "\n",
      "A date index has been provided, but it has no associated frequency information and so will be ignored when e.g. forecasting.\n",
      "\n"
     ]
    },
    {
     "name": "stdout",
     "output_type": "stream",
     "text": [
      "Current Iter - 81, ARIMA(0, 0, 2)x(2, 2, 2, 12) 12 - AIC:323.93226571273345\n"
     ]
    },
    {
     "name": "stderr",
     "output_type": "stream",
     "text": [
      "/anaconda3/lib/python3.7/site-packages/statsmodels/tsa/base/tsa_model.py:225: ValueWarning:\n",
      "\n",
      "A date index has been provided, but it has no associated frequency information and so will be ignored when e.g. forecasting.\n",
      "\n"
     ]
    },
    {
     "name": "stdout",
     "output_type": "stream",
     "text": [
      "Current Iter - 82, ARIMA(0, 1, 0)x(0, 0, 0, 12) 12 - AIC:26624.651437939745\n"
     ]
    },
    {
     "name": "stderr",
     "output_type": "stream",
     "text": [
      "/anaconda3/lib/python3.7/site-packages/statsmodels/tsa/base/tsa_model.py:225: ValueWarning:\n",
      "\n",
      "A date index has been provided, but it has no associated frequency information and so will be ignored when e.g. forecasting.\n",
      "\n"
     ]
    },
    {
     "name": "stdout",
     "output_type": "stream",
     "text": [
      "Current Iter - 83, ARIMA(0, 1, 0)x(0, 0, 1, 12) 12 - AIC:26224.675704960384\n"
     ]
    },
    {
     "name": "stderr",
     "output_type": "stream",
     "text": [
      "/anaconda3/lib/python3.7/site-packages/statsmodels/tsa/base/tsa_model.py:225: ValueWarning:\n",
      "\n",
      "A date index has been provided, but it has no associated frequency information and so will be ignored when e.g. forecasting.\n",
      "\n"
     ]
    },
    {
     "name": "stdout",
     "output_type": "stream",
     "text": [
      "Current Iter - 84, ARIMA(0, 1, 0)x(0, 0, 2, 12) 12 - AIC:4174.482314805387\n"
     ]
    },
    {
     "name": "stderr",
     "output_type": "stream",
     "text": [
      "/anaconda3/lib/python3.7/site-packages/statsmodels/tsa/base/tsa_model.py:225: ValueWarning:\n",
      "\n",
      "A date index has been provided, but it has no associated frequency information and so will be ignored when e.g. forecasting.\n",
      "\n"
     ]
    },
    {
     "name": "stdout",
     "output_type": "stream",
     "text": [
      "Current Iter - 85, ARIMA(0, 1, 0)x(0, 1, 0, 12) 12 - AIC:49754.232610864354\n"
     ]
    },
    {
     "name": "stderr",
     "output_type": "stream",
     "text": [
      "/anaconda3/lib/python3.7/site-packages/statsmodels/tsa/base/tsa_model.py:225: ValueWarning:\n",
      "\n",
      "A date index has been provided, but it has no associated frequency information and so will be ignored when e.g. forecasting.\n",
      "\n"
     ]
    },
    {
     "name": "stdout",
     "output_type": "stream",
     "text": [
      "Current Iter - 86, ARIMA(0, 1, 0)x(0, 1, 1, 12) 12 - AIC:16616.87116822923\n"
     ]
    },
    {
     "name": "stderr",
     "output_type": "stream",
     "text": [
      "/anaconda3/lib/python3.7/site-packages/statsmodels/tsa/base/tsa_model.py:225: ValueWarning:\n",
      "\n",
      "A date index has been provided, but it has no associated frequency information and so will be ignored when e.g. forecasting.\n",
      "\n"
     ]
    },
    {
     "name": "stdout",
     "output_type": "stream",
     "text": [
      "Current Iter - 87, ARIMA(0, 1, 0)x(0, 1, 2, 12) 12 - AIC:5529.469261331773\n"
     ]
    },
    {
     "name": "stderr",
     "output_type": "stream",
     "text": [
      "/anaconda3/lib/python3.7/site-packages/statsmodels/tsa/base/tsa_model.py:225: ValueWarning:\n",
      "\n",
      "A date index has been provided, but it has no associated frequency information and so will be ignored when e.g. forecasting.\n",
      "\n"
     ]
    },
    {
     "name": "stdout",
     "output_type": "stream",
     "text": [
      "Current Iter - 88, ARIMA(0, 1, 0)x(0, 2, 0, 12) 12 - AIC:85704.92870021512\n"
     ]
    },
    {
     "name": "stderr",
     "output_type": "stream",
     "text": [
      "/anaconda3/lib/python3.7/site-packages/statsmodels/tsa/base/tsa_model.py:225: ValueWarning:\n",
      "\n",
      "A date index has been provided, but it has no associated frequency information and so will be ignored when e.g. forecasting.\n",
      "\n"
     ]
    },
    {
     "name": "stdout",
     "output_type": "stream",
     "text": [
      "Current Iter - 89, ARIMA(0, 1, 0)x(0, 2, 1, 12) 12 - AIC:49807.89702853983\n"
     ]
    },
    {
     "name": "stderr",
     "output_type": "stream",
     "text": [
      "/anaconda3/lib/python3.7/site-packages/statsmodels/tsa/base/tsa_model.py:225: ValueWarning:\n",
      "\n",
      "A date index has been provided, but it has no associated frequency information and so will be ignored when e.g. forecasting.\n",
      "\n"
     ]
    },
    {
     "name": "stdout",
     "output_type": "stream",
     "text": [
      "Current Iter - 90, ARIMA(0, 1, 0)x(0, 2, 2, 12) 12 - AIC:16568.606815438696\n"
     ]
    },
    {
     "name": "stderr",
     "output_type": "stream",
     "text": [
      "/anaconda3/lib/python3.7/site-packages/statsmodels/tsa/base/tsa_model.py:225: ValueWarning:\n",
      "\n",
      "A date index has been provided, but it has no associated frequency information and so will be ignored when e.g. forecasting.\n",
      "\n",
      "/anaconda3/lib/python3.7/site-packages/statsmodels/base/model.py:508: ConvergenceWarning:\n",
      "\n",
      "Maximum Likelihood optimization failed to converge. Check mle_retvals\n",
      "\n"
     ]
    },
    {
     "name": "stdout",
     "output_type": "stream",
     "text": [
      "Current Iter - 91, ARIMA(0, 1, 0)x(1, 0, 0, 12) 12 - AIC:25490.74820521471\n"
     ]
    },
    {
     "name": "stderr",
     "output_type": "stream",
     "text": [
      "/anaconda3/lib/python3.7/site-packages/statsmodels/tsa/base/tsa_model.py:225: ValueWarning:\n",
      "\n",
      "A date index has been provided, but it has no associated frequency information and so will be ignored when e.g. forecasting.\n",
      "\n"
     ]
    },
    {
     "name": "stdout",
     "output_type": "stream",
     "text": [
      "Current Iter - 92, ARIMA(0, 1, 0)x(1, 0, 1, 12) 12 - AIC:7793.156427108261\n"
     ]
    },
    {
     "name": "stderr",
     "output_type": "stream",
     "text": [
      "/anaconda3/lib/python3.7/site-packages/statsmodels/tsa/base/tsa_model.py:225: ValueWarning:\n",
      "\n",
      "A date index has been provided, but it has no associated frequency information and so will be ignored when e.g. forecasting.\n",
      "\n"
     ]
    },
    {
     "name": "stdout",
     "output_type": "stream",
     "text": [
      "Current Iter - 93, ARIMA(0, 1, 0)x(1, 0, 2, 12) 12 - AIC:1027.7490721048093\n"
     ]
    },
    {
     "name": "stderr",
     "output_type": "stream",
     "text": [
      "/anaconda3/lib/python3.7/site-packages/statsmodels/tsa/base/tsa_model.py:225: ValueWarning:\n",
      "\n",
      "A date index has been provided, but it has no associated frequency information and so will be ignored when e.g. forecasting.\n",
      "\n"
     ]
    },
    {
     "name": "stdout",
     "output_type": "stream",
     "text": [
      "Current Iter - 94, ARIMA(0, 1, 0)x(1, 1, 0, 12) 12 - AIC:-20802.000618481616\n"
     ]
    },
    {
     "name": "stderr",
     "output_type": "stream",
     "text": [
      "/anaconda3/lib/python3.7/site-packages/statsmodels/tsa/base/tsa_model.py:225: ValueWarning:\n",
      "\n",
      "A date index has been provided, but it has no associated frequency information and so will be ignored when e.g. forecasting.\n",
      "\n"
     ]
    },
    {
     "name": "stdout",
     "output_type": "stream",
     "text": [
      "Current Iter - 95, ARIMA(0, 1, 0)x(1, 1, 1, 12) 12 - AIC:-21130.00625016948\n"
     ]
    },
    {
     "name": "stderr",
     "output_type": "stream",
     "text": [
      "/anaconda3/lib/python3.7/site-packages/statsmodels/tsa/base/tsa_model.py:225: ValueWarning:\n",
      "\n",
      "A date index has been provided, but it has no associated frequency information and so will be ignored when e.g. forecasting.\n",
      "\n"
     ]
    },
    {
     "name": "stdout",
     "output_type": "stream",
     "text": [
      "Current Iter - 96, ARIMA(0, 1, 0)x(1, 1, 2, 12) 12 - AIC:-26779.602533573103\n"
     ]
    },
    {
     "name": "stderr",
     "output_type": "stream",
     "text": [
      "/anaconda3/lib/python3.7/site-packages/statsmodels/tsa/base/tsa_model.py:225: ValueWarning:\n",
      "\n",
      "A date index has been provided, but it has no associated frequency information and so will be ignored when e.g. forecasting.\n",
      "\n"
     ]
    },
    {
     "name": "stdout",
     "output_type": "stream",
     "text": [
      "Current Iter - 97, ARIMA(0, 1, 0)x(1, 2, 0, 12) 12 - AIC:-733.0334413225845\n"
     ]
    },
    {
     "name": "stderr",
     "output_type": "stream",
     "text": [
      "/anaconda3/lib/python3.7/site-packages/statsmodels/tsa/base/tsa_model.py:225: ValueWarning:\n",
      "\n",
      "A date index has been provided, but it has no associated frequency information and so will be ignored when e.g. forecasting.\n",
      "\n"
     ]
    },
    {
     "name": "stdout",
     "output_type": "stream",
     "text": [
      "Current Iter - 98, ARIMA(0, 1, 0)x(1, 2, 1, 12) 12 - AIC:-20685.851824441223\n"
     ]
    },
    {
     "name": "stderr",
     "output_type": "stream",
     "text": [
      "/anaconda3/lib/python3.7/site-packages/statsmodels/tsa/base/tsa_model.py:225: ValueWarning:\n",
      "\n",
      "A date index has been provided, but it has no associated frequency information and so will be ignored when e.g. forecasting.\n",
      "\n"
     ]
    },
    {
     "name": "stdout",
     "output_type": "stream",
     "text": [
      "Current Iter - 99, ARIMA(0, 1, 0)x(1, 2, 2, 12) 12 - AIC:-21026.131707608383\n"
     ]
    },
    {
     "name": "stderr",
     "output_type": "stream",
     "text": [
      "/anaconda3/lib/python3.7/site-packages/statsmodels/tsa/base/tsa_model.py:225: ValueWarning:\n",
      "\n",
      "A date index has been provided, but it has no associated frequency information and so will be ignored when e.g. forecasting.\n",
      "\n",
      "/anaconda3/lib/python3.7/site-packages/statsmodels/tsa/base/tsa_model.py:225: ValueWarning:\n",
      "\n",
      "A date index has been provided, but it has no associated frequency information and so will be ignored when e.g. forecasting.\n",
      "\n"
     ]
    },
    {
     "name": "stdout",
     "output_type": "stream",
     "text": [
      "Current Iter - 101, ARIMA(0, 1, 0)x(2, 0, 1, 12) 12 - AIC:-21668.183676077813\n"
     ]
    },
    {
     "name": "stderr",
     "output_type": "stream",
     "text": [
      "/anaconda3/lib/python3.7/site-packages/statsmodels/tsa/base/tsa_model.py:225: ValueWarning:\n",
      "\n",
      "A date index has been provided, but it has no associated frequency information and so will be ignored when e.g. forecasting.\n",
      "\n"
     ]
    },
    {
     "name": "stdout",
     "output_type": "stream",
     "text": [
      "Current Iter - 102, ARIMA(0, 1, 0)x(2, 0, 2, 12) 12 - AIC:-26774.556589614327\n"
     ]
    },
    {
     "name": "stderr",
     "output_type": "stream",
     "text": [
      "/anaconda3/lib/python3.7/site-packages/statsmodels/tsa/base/tsa_model.py:225: ValueWarning:\n",
      "\n",
      "A date index has been provided, but it has no associated frequency information and so will be ignored when e.g. forecasting.\n",
      "\n"
     ]
    },
    {
     "name": "stdout",
     "output_type": "stream",
     "text": [
      "Current Iter - 103, ARIMA(0, 1, 0)x(2, 1, 0, 12) 12 - AIC:-21005.393422155605\n"
     ]
    },
    {
     "name": "stderr",
     "output_type": "stream",
     "text": [
      "/anaconda3/lib/python3.7/site-packages/statsmodels/tsa/base/tsa_model.py:225: ValueWarning:\n",
      "\n",
      "A date index has been provided, but it has no associated frequency information and so will be ignored when e.g. forecasting.\n",
      "\n"
     ]
    },
    {
     "name": "stdout",
     "output_type": "stream",
     "text": [
      "Current Iter - 104, ARIMA(0, 1, 0)x(2, 1, 1, 12) 12 - AIC:-25356.466432483092\n"
     ]
    },
    {
     "name": "stderr",
     "output_type": "stream",
     "text": [
      "/anaconda3/lib/python3.7/site-packages/statsmodels/tsa/base/tsa_model.py:225: ValueWarning:\n",
      "\n",
      "A date index has been provided, but it has no associated frequency information and so will be ignored when e.g. forecasting.\n",
      "\n"
     ]
    },
    {
     "name": "stdout",
     "output_type": "stream",
     "text": [
      "Current Iter - 105, ARIMA(0, 1, 0)x(2, 1, 2, 12) 12 - AIC:-27103.00176850811\n"
     ]
    },
    {
     "name": "stderr",
     "output_type": "stream",
     "text": [
      "/anaconda3/lib/python3.7/site-packages/statsmodels/tsa/base/tsa_model.py:225: ValueWarning:\n",
      "\n",
      "A date index has been provided, but it has no associated frequency information and so will be ignored when e.g. forecasting.\n",
      "\n"
     ]
    },
    {
     "name": "stdout",
     "output_type": "stream",
     "text": [
      "Current Iter - 106, ARIMA(0, 1, 0)x(2, 2, 0, 12) 12 - AIC:-6371.155822212387\n"
     ]
    },
    {
     "name": "stderr",
     "output_type": "stream",
     "text": [
      "/anaconda3/lib/python3.7/site-packages/statsmodels/tsa/base/tsa_model.py:225: ValueWarning:\n",
      "\n",
      "A date index has been provided, but it has no associated frequency information and so will be ignored when e.g. forecasting.\n",
      "\n"
     ]
    },
    {
     "name": "stdout",
     "output_type": "stream",
     "text": [
      "Current Iter - 107, ARIMA(0, 1, 0)x(2, 2, 1, 12) 12 - AIC:-20889.420753187613\n"
     ]
    },
    {
     "name": "stderr",
     "output_type": "stream",
     "text": [
      "/anaconda3/lib/python3.7/site-packages/statsmodels/tsa/base/tsa_model.py:225: ValueWarning:\n",
      "\n",
      "A date index has been provided, but it has no associated frequency information and so will be ignored when e.g. forecasting.\n",
      "\n"
     ]
    },
    {
     "name": "stdout",
     "output_type": "stream",
     "text": [
      "Current Iter - 108, ARIMA(0, 1, 0)x(2, 2, 2, 12) 12 - AIC:-22356.98736513279\n"
     ]
    },
    {
     "name": "stderr",
     "output_type": "stream",
     "text": [
      "/anaconda3/lib/python3.7/site-packages/statsmodels/tsa/base/tsa_model.py:225: ValueWarning:\n",
      "\n",
      "A date index has been provided, but it has no associated frequency information and so will be ignored when e.g. forecasting.\n",
      "\n"
     ]
    },
    {
     "name": "stdout",
     "output_type": "stream",
     "text": [
      "Current Iter - 109, ARIMA(0, 1, 1)x(0, 0, 0, 12) 12 - AIC:3370.271931888994\n"
     ]
    },
    {
     "name": "stderr",
     "output_type": "stream",
     "text": [
      "/anaconda3/lib/python3.7/site-packages/statsmodels/tsa/base/tsa_model.py:225: ValueWarning:\n",
      "\n",
      "A date index has been provided, but it has no associated frequency information and so will be ignored when e.g. forecasting.\n",
      "\n"
     ]
    },
    {
     "name": "stdout",
     "output_type": "stream",
     "text": [
      "Current Iter - 110, ARIMA(0, 1, 1)x(0, 0, 1, 12) 12 - AIC:3084.1114690174445\n"
     ]
    },
    {
     "name": "stderr",
     "output_type": "stream",
     "text": [
      "/anaconda3/lib/python3.7/site-packages/statsmodels/tsa/base/tsa_model.py:225: ValueWarning:\n",
      "\n",
      "A date index has been provided, but it has no associated frequency information and so will be ignored when e.g. forecasting.\n",
      "\n"
     ]
    },
    {
     "name": "stdout",
     "output_type": "stream",
     "text": [
      "Current Iter - 111, ARIMA(0, 1, 1)x(0, 0, 2, 12) 12 - AIC:-14206.60802751147\n"
     ]
    },
    {
     "name": "stderr",
     "output_type": "stream",
     "text": [
      "/anaconda3/lib/python3.7/site-packages/statsmodels/tsa/base/tsa_model.py:225: ValueWarning:\n",
      "\n",
      "A date index has been provided, but it has no associated frequency information and so will be ignored when e.g. forecasting.\n",
      "\n"
     ]
    },
    {
     "name": "stdout",
     "output_type": "stream",
     "text": [
      "Current Iter - 112, ARIMA(0, 1, 1)x(0, 1, 0, 12) 12 - AIC:25280.162115470805\n"
     ]
    },
    {
     "name": "stderr",
     "output_type": "stream",
     "text": [
      "/anaconda3/lib/python3.7/site-packages/statsmodels/tsa/base/tsa_model.py:225: ValueWarning:\n",
      "\n",
      "A date index has been provided, but it has no associated frequency information and so will be ignored when e.g. forecasting.\n",
      "\n"
     ]
    },
    {
     "name": "stdout",
     "output_type": "stream",
     "text": [
      "Current Iter - 113, ARIMA(0, 1, 1)x(0, 1, 1, 12) 12 - AIC:-5220.85915606499\n"
     ]
    },
    {
     "name": "stderr",
     "output_type": "stream",
     "text": [
      "/anaconda3/lib/python3.7/site-packages/statsmodels/tsa/base/tsa_model.py:225: ValueWarning:\n",
      "\n",
      "A date index has been provided, but it has no associated frequency information and so will be ignored when e.g. forecasting.\n",
      "\n"
     ]
    },
    {
     "name": "stdout",
     "output_type": "stream",
     "text": [
      "Current Iter - 114, ARIMA(0, 1, 1)x(0, 1, 2, 12) 12 - AIC:-15308.03374404967\n"
     ]
    },
    {
     "name": "stderr",
     "output_type": "stream",
     "text": [
      "/anaconda3/lib/python3.7/site-packages/statsmodels/tsa/base/tsa_model.py:225: ValueWarning:\n",
      "\n",
      "A date index has been provided, but it has no associated frequency information and so will be ignored when e.g. forecasting.\n",
      "\n"
     ]
    },
    {
     "name": "stdout",
     "output_type": "stream",
     "text": [
      "Current Iter - 115, ARIMA(0, 1, 1)x(0, 2, 0, 12) 12 - AIC:58942.83497859069\n"
     ]
    },
    {
     "name": "stderr",
     "output_type": "stream",
     "text": [
      "/anaconda3/lib/python3.7/site-packages/statsmodels/tsa/base/tsa_model.py:225: ValueWarning:\n",
      "\n",
      "A date index has been provided, but it has no associated frequency information and so will be ignored when e.g. forecasting.\n",
      "\n"
     ]
    },
    {
     "name": "stdout",
     "output_type": "stream",
     "text": [
      "Current Iter - 116, ARIMA(0, 1, 1)x(0, 2, 1, 12) 12 - AIC:25355.160430755852\n"
     ]
    },
    {
     "name": "stderr",
     "output_type": "stream",
     "text": [
      "/anaconda3/lib/python3.7/site-packages/statsmodels/tsa/base/tsa_model.py:225: ValueWarning:\n",
      "\n",
      "A date index has been provided, but it has no associated frequency information and so will be ignored when e.g. forecasting.\n",
      "\n"
     ]
    },
    {
     "name": "stdout",
     "output_type": "stream",
     "text": [
      "Current Iter - 117, ARIMA(0, 1, 1)x(0, 2, 2, 12) 12 - AIC:-5056.4993475763295\n"
     ]
    },
    {
     "name": "stderr",
     "output_type": "stream",
     "text": [
      "/anaconda3/lib/python3.7/site-packages/statsmodels/tsa/base/tsa_model.py:225: ValueWarning:\n",
      "\n",
      "A date index has been provided, but it has no associated frequency information and so will be ignored when e.g. forecasting.\n",
      "\n"
     ]
    },
    {
     "name": "stdout",
     "output_type": "stream",
     "text": [
      "Current Iter - 118, ARIMA(0, 1, 1)x(1, 0, 0, 12) 12 - AIC:2565.902828653574\n"
     ]
    },
    {
     "name": "stderr",
     "output_type": "stream",
     "text": [
      "/anaconda3/lib/python3.7/site-packages/statsmodels/tsa/base/tsa_model.py:225: ValueWarning:\n",
      "\n",
      "A date index has been provided, but it has no associated frequency information and so will be ignored when e.g. forecasting.\n",
      "\n"
     ]
    },
    {
     "name": "stdout",
     "output_type": "stream",
     "text": [
      "Current Iter - 119, ARIMA(0, 1, 1)x(1, 0, 1, 12) 12 - AIC:-12690.732756726982\n"
     ]
    },
    {
     "name": "stderr",
     "output_type": "stream",
     "text": [
      "/anaconda3/lib/python3.7/site-packages/statsmodels/tsa/base/tsa_model.py:225: ValueWarning:\n",
      "\n",
      "A date index has been provided, but it has no associated frequency information and so will be ignored when e.g. forecasting.\n",
      "\n"
     ]
    },
    {
     "name": "stdout",
     "output_type": "stream",
     "text": [
      "Current Iter - 120, ARIMA(0, 1, 1)x(1, 0, 2, 12) 12 - AIC:-18680.084076844025\n"
     ]
    },
    {
     "name": "stderr",
     "output_type": "stream",
     "text": [
      "/anaconda3/lib/python3.7/site-packages/statsmodels/tsa/base/tsa_model.py:225: ValueWarning:\n",
      "\n",
      "A date index has been provided, but it has no associated frequency information and so will be ignored when e.g. forecasting.\n",
      "\n"
     ]
    },
    {
     "name": "stdout",
     "output_type": "stream",
     "text": [
      "Current Iter - 121, ARIMA(0, 1, 1)x(1, 1, 0, 12) 12 - AIC:-34353.6327847598\n"
     ]
    },
    {
     "name": "stderr",
     "output_type": "stream",
     "text": [
      "/anaconda3/lib/python3.7/site-packages/statsmodels/tsa/base/tsa_model.py:225: ValueWarning:\n",
      "\n",
      "A date index has been provided, but it has no associated frequency information and so will be ignored when e.g. forecasting.\n",
      "\n"
     ]
    },
    {
     "name": "stdout",
     "output_type": "stream",
     "text": [
      "Current Iter - 122, ARIMA(0, 1, 1)x(1, 1, 1, 12) 12 - AIC:-34614.02879401578\n"
     ]
    },
    {
     "name": "stderr",
     "output_type": "stream",
     "text": [
      "/anaconda3/lib/python3.7/site-packages/statsmodels/tsa/base/tsa_model.py:225: ValueWarning:\n",
      "\n",
      "A date index has been provided, but it has no associated frequency information and so will be ignored when e.g. forecasting.\n",
      "\n"
     ]
    },
    {
     "name": "stdout",
     "output_type": "stream",
     "text": [
      "Current Iter - 123, ARIMA(0, 1, 1)x(1, 1, 2, 12) 12 - AIC:-40821.43631629284\n"
     ]
    },
    {
     "name": "stderr",
     "output_type": "stream",
     "text": [
      "/anaconda3/lib/python3.7/site-packages/statsmodels/tsa/base/tsa_model.py:225: ValueWarning:\n",
      "\n",
      "A date index has been provided, but it has no associated frequency information and so will be ignored when e.g. forecasting.\n",
      "\n"
     ]
    },
    {
     "name": "stdout",
     "output_type": "stream",
     "text": [
      "Current Iter - 124, ARIMA(0, 1, 1)x(1, 2, 0, 12) 12 - AIC:-14766.662776507566\n"
     ]
    },
    {
     "name": "stderr",
     "output_type": "stream",
     "text": [
      "/anaconda3/lib/python3.7/site-packages/statsmodels/tsa/base/tsa_model.py:225: ValueWarning:\n",
      "\n",
      "A date index has been provided, but it has no associated frequency information and so will be ignored when e.g. forecasting.\n",
      "\n"
     ]
    },
    {
     "name": "stdout",
     "output_type": "stream",
     "text": [
      "Current Iter - 125, ARIMA(0, 1, 1)x(1, 2, 1, 12) 12 - AIC:-34229.81634254326\n"
     ]
    },
    {
     "name": "stderr",
     "output_type": "stream",
     "text": [
      "/anaconda3/lib/python3.7/site-packages/statsmodels/tsa/base/tsa_model.py:225: ValueWarning:\n",
      "\n",
      "A date index has been provided, but it has no associated frequency information and so will be ignored when e.g. forecasting.\n",
      "\n"
     ]
    }
   ],
   "source": [
    "cnt = 0\n",
    "for param in pdq:\n",
    "    for param_seasonal in seasonal_pdq:\n",
    "        try:\n",
    "            mod = sm.tsa.statespace.SARIMAX(y,\n",
    "                                            order=param,\n",
    "                                            seasonal_order=param_seasonal,\n",
    "                                            enforce_stationarity=False,\n",
    "                                            enforce_invertibility=False)\n",
    "            results = mod.fit()\n",
    "            cnt += 1\n",
    "            if cnt % 50 :\n",
    "                print('Current Iter - {}, ARIMA{}x{} 12 - AIC:{}'.format(cnt, param, param_seasonal, results.aic))\n",
    "        except:\n",
    "            continue"
   ]
  },
  {
   "cell_type": "markdown",
   "metadata": {
    "_uuid": "cbe4cab3b81e18a49f712c580859dc51ea117630",
    "hidden": true
   },
   "source": [
    "The above output suggests that SARIMA(2, 0, 1)x(2, 2, 0, 12) yields the lowest AIC value of 17.435499462373613. Therefore we should consider this to be optimal option.\n",
    "- ARIMA(0, 0, 0)x(2, 2, 0, 12)12 - AIC:28.152584128715233\n",
    "- ARIMA(0, 0, 1)x(2, 2, 0, 12)12 - AIC:21.20352160942468\n",
    "- ARIMA(0, 0, 2)x(2, 2, 0, 12)12 - AIC:18.308712222027623\n",
    "- ARIMA(1, 0, 1)x(2, 2, 0, 12)12 - AIC:18.039431593093965\n",
    "- ARIMA(1, 0, 2)x(2, 2, 0, 12)12 - AIC:17.583895110587616\n",
    "- ARIMA(2, 0, 1)x(2, 2, 0, 12)12 - AIC:17.435499462373613\n",
    "- ARIMA(2, 0, 2)x(2, 2, 0, 12)12 - AIC:17.473412955915293"
   ]
  },
  {
   "cell_type": "code",
   "execution_count": 208,
   "metadata": {
    "_uuid": "8de9a57c1aa583118e9f5ac2fed0f097982959d2",
    "hidden": true
   },
   "outputs": [
    {
     "name": "stdout",
     "output_type": "stream",
     "text": [
      "==============================================================================\n",
      "                 coef    std err          z      P>|z|      [0.025      0.975]\n",
      "------------------------------------------------------------------------------\n",
      "ar.L1         -0.4595      0.723     -0.636      0.525      -1.876       0.957\n",
      "ar.L2         -0.2111      0.580     -0.364      0.716      -1.348       0.926\n",
      "ma.L1         -1.4818      5.755     -0.257      0.797     -12.762       9.798\n",
      "ma.L2          0.5067      2.655      0.191      0.849      -4.697       5.710\n",
      "ar.S.L12      -0.9731      0.012    -81.995      0.000      -0.996      -0.950\n",
      "ar.S.L24       0.0203      0.008      2.418      0.016       0.004       0.037\n",
      "sigma2         0.0665      0.411      0.162      0.872      -0.740       0.873\n",
      "==============================================================================\n"
     ]
    },
    {
     "name": "stderr",
     "output_type": "stream",
     "text": [
      "/anaconda3/lib/python3.7/site-packages/statsmodels/base/model.py:508: ConvergenceWarning:\n",
      "\n",
      "Maximum Likelihood optimization failed to converge. Check mle_retvals\n",
      "\n"
     ]
    }
   ],
   "source": [
    "mod = sm.tsa.statespace.SARIMAX(y,\n",
    "                                order=(2, 0, 2),\n",
    "                                seasonal_order=(2, 2, 0, 12),\n",
    "                                enforce_stationarity=False,\n",
    "                                enforce_invertibility=False)\n",
    "results = mod.fit()\n",
    "print(results.summary().tables[1])"
   ]
  },
  {
   "cell_type": "code",
   "execution_count": 209,
   "metadata": {
    "_uuid": "547fb15dc5d02f51a2395aad94a5b86e7532d2d0",
    "hidden": true
   },
   "outputs": [
    {
     "data": {
      "text/plain": [
       "<matplotlib.legend.Legend at 0x1c3afd19b0>"
      ]
     },
     "execution_count": 209,
     "metadata": {},
     "output_type": "execute_result"
    },
    {
     "data": {
      "image/png": "[encoded data removed]",
      "text/plain": [
       "<Figure size 1008x504 with 1 Axes>"
      ]
     },
     "metadata": {
      "needs_background": "light"
     },
     "output_type": "display_data"
    }
   ],
   "source": [
    "## Validating Forecast\n",
    "pred = results.get_prediction(start=pd.to_datetime('2017-01-01'), dynamic=False)\n",
    "pred_ci = pred.conf_int()\n",
    "ax = y['2013':].plot(label='observed')\n",
    "pred.predicted_mean.plot(ax=ax, label='One-step ahead Forecast', alpha=.7, figsize=(14, 7))\n",
    "ax.fill_between(pred_ci.index,\n",
    "                pred_ci.iloc[:, 0],\n",
    "                pred_ci.iloc[:, 1], color='k', alpha=.2)\n",
    "ax.set_xlabel('Date')\n",
    "ax.set_ylabel('Sales')\n",
    "plt.legend()"
   ]
  },
  {
   "cell_type": "code",
   "execution_count": 210,
   "metadata": {
    "_uuid": "85ab470d26327e3430b9e0aadc47da49f4dba0ca",
    "hidden": true
   },
   "outputs": [
    {
     "name": "stdout",
     "output_type": "stream",
     "text": [
      "The Mean Squared Error of our forecasts is 1.323\n"
     ]
    }
   ],
   "source": [
    "y_forecasted = pred.predicted_mean\n",
    "y_truth = y['2017-01-01':]\n",
    "mse = ((y_forecasted - y_truth) ** 2).mean()\n",
    "print('The Mean Squared Error of our forecasts is {}'.format(round(mse, 3)))\n",
    "#The MSE is a measure of the quality of an estimator — it is always non-negative, \n",
    "#and the smaller the MSE, the closer we are to finding the line of best fit."
   ]
  },
  {
   "cell_type": "code",
   "execution_count": 188,
   "metadata": {
    "_uuid": "50646591db0f79a058ff93cfe3770e916a8365ff",
    "hidden": true
   },
   "outputs": [
    {
     "data": {
      "text/plain": [
       "<matplotlib.legend.Legend at 0x1c3b06a588>"
      ]
     },
     "execution_count": 188,
     "metadata": {},
     "output_type": "execute_result"
    },
    {
     "data": {
      "image/png": "[encoded data removed]",
      "text/plain": [
       "<Figure size 1008x504 with 1 Axes>"
      ]
     },
     "metadata": {
      "needs_background": "light"
     },
     "output_type": "display_data"
    }
   ],
   "source": [
    "pred_uc = results.get_forecast(steps=100)\n",
    "pred_ci = pred_uc.conf_int()\n",
    "ax = y.plot(label='observed', figsize=(14, 7))\n",
    "pred_uc.predicted_mean.plot(ax=ax, label='Forecast')\n",
    "ax.fill_between(pred_ci.index,\n",
    "                pred_ci.iloc[:, 0],\n",
    "                pred_ci.iloc[:, 1], color='k', alpha=.25)\n",
    "ax.set_xlabel('Date')\n",
    "ax.set_ylabel('Sales')\n",
    "plt.legend()"
   ]
  },
  {
   "cell_type": "code",
   "execution_count": 189,
   "metadata": {},
   "outputs": [
    {
     "name": "stdout",
     "output_type": "stream",
     "text": [
      "time to here:  0:27:37.342755\n"
     ]
    }
   ],
   "source": [
    "print('time to here: ', pd.datetime.now() - start_time)"
   ]
  },
  {
   "cell_type": "code",
   "execution_count": null,
   "metadata": {},
   "outputs": [],
   "source": []
  }
 ],
 "metadata": {
  "kernelspec": {
   "display_name": "Python 3",
   "language": "python",
   "name": "python3"
  },
  "language_info": {
   "codemirror_mode": {
    "name": "ipython",
    "version": 3
   },
   "file_extension": ".py",
   "mimetype": "text/x-python",
   "name": "python",
   "nbconvert_exporter": "python",
   "pygments_lexer": "ipython3",
   "version": "3.7.3"
  },
  "nbTranslate": {
   "displayLangs": [
    "*"
   ],
   "hotkey": "alt-t",
   "langInMainMenu": true,
   "sourceLang": "en",
   "targetLang": "fr",
   "useGoogleTranslate": true
  }
 },
 "nbformat": 4,
 "nbformat_minor": 1
}
